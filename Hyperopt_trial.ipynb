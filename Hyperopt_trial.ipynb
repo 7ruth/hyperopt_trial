{
  "nbformat": 4,
  "nbformat_minor": 0,
  "metadata": {
    "colab": {
      "name": "Hyperopt_trial.ipynb",
      "provenance": [],
      "authorship_tag": "ABX9TyODToIieKsoGGQx2nIHap1G",
      "include_colab_link": true
    },
    "kernelspec": {
      "name": "python3",
      "display_name": "Python 3"
    }
  },
  "cells": [
    {
      "cell_type": "markdown",
      "metadata": {
        "id": "view-in-github",
        "colab_type": "text"
      },
      "source": [
        "<a href=\"https://colab.research.google.com/github/7ruth/hyperopt_trial/blob/master/Hyperopt_trial.ipynb\" target=\"_parent\"><img src=\"https://colab.research.google.com/assets/colab-badge.svg\" alt=\"Open In Colab\"/></a>"
      ]
    },
    {
      "cell_type": "code",
      "metadata": {
        "id": "x9pbjALJa-Rb",
        "colab_type": "code",
        "colab": {
          "base_uri": "https://localhost:8080/",
          "height": 170
        },
        "outputId": "04f8118a-d0ea-4567-bfb4-3bb838a492c2"
      },
      "source": [
        "!pip install hyperopt"
      ],
      "execution_count": 1,
      "outputs": [
        {
          "output_type": "stream",
          "text": [
            "Requirement already satisfied: hyperopt in /usr/local/lib/python3.6/dist-packages (0.1.2)\n",
            "Requirement already satisfied: scipy in /usr/local/lib/python3.6/dist-packages (from hyperopt) (1.4.1)\n",
            "Requirement already satisfied: numpy in /usr/local/lib/python3.6/dist-packages (from hyperopt) (1.17.5)\n",
            "Requirement already satisfied: pymongo in /usr/local/lib/python3.6/dist-packages (from hyperopt) (3.10.0)\n",
            "Requirement already satisfied: tqdm in /usr/local/lib/python3.6/dist-packages (from hyperopt) (4.28.1)\n",
            "Requirement already satisfied: six in /usr/local/lib/python3.6/dist-packages (from hyperopt) (1.12.0)\n",
            "Requirement already satisfied: networkx in /usr/local/lib/python3.6/dist-packages (from hyperopt) (2.4)\n",
            "Requirement already satisfied: future in /usr/local/lib/python3.6/dist-packages (from hyperopt) (0.16.0)\n",
            "Requirement already satisfied: decorator>=4.3.0 in /usr/local/lib/python3.6/dist-packages (from networkx->hyperopt) (4.4.1)\n"
          ],
          "name": "stdout"
        }
      ]
    },
    {
      "cell_type": "code",
      "metadata": {
        "id": "8UTGq6_NbGwt",
        "colab_type": "code",
        "colab": {
          "base_uri": "https://localhost:8080/",
          "height": 68
        },
        "outputId": "683e50b3-1e20-46db-e6ea-5c44bb4d2a2b"
      },
      "source": [
        "# define an objective function\n",
        "def objective(args):\n",
        "    case, val = args\n",
        "    if case == 'case 1':\n",
        "        return val\n",
        "    else:\n",
        "        return val ** 2\n",
        "\n",
        "# define a search space\n",
        "from hyperopt import hp\n",
        "space = hp.choice('a',\n",
        "    [\n",
        "        ('case 1', 1 + hp.lognormal('c1', 0, 1)),\n",
        "        ('case 2', hp.uniform('c2', -10, 10))\n",
        "    ])\n",
        "\n",
        "# minimize the objective over the space\n",
        "from hyperopt import fmin, tpe, space_eval\n",
        "best = fmin(objective, space, algo=tpe.suggest, max_evals=100)\n",
        "\n",
        "print(best)\n",
        "# -> {'a': 1, 'c2': 0.01420615366247227}\n",
        "print(space_eval(space, best))\n",
        "# -> ('case 2', 0.01420615366247227}"
      ],
      "execution_count": 3,
      "outputs": [
        {
          "output_type": "stream",
          "text": [
            "100%|██████████| 100/100 [00:00<00:00, 183.60it/s, best loss: 0.00014212594140006231]\n",
            "{'a': 1, 'c2': 0.01192165850039592}\n",
            "('case 2', 0.01192165850039592)\n"
          ],
          "name": "stdout"
        }
      ]
    },
    {
      "cell_type": "markdown",
      "metadata": {
        "id": "uBEj1WURfTjU",
        "colab_type": "text"
      },
      "source": [
        "# Source: https://github.com/hyperopt/hyperopt/wiki/FMin"
      ]
    },
    {
      "cell_type": "code",
      "metadata": {
        "id": "EdEoS7cfbMTD",
        "colab_type": "code",
        "colab": {
          "base_uri": "https://localhost:8080/",
          "height": 51
        },
        "outputId": "46b4f9e8-41b3-4d71-a6e7-ba57a66d803f"
      },
      "source": [
        "from hyperopt import fmin, tpe, hp\n",
        "best = fmin(fn=lambda x: x ** 2,\n",
        "    space=hp.uniform('x', -10, 10),\n",
        "    algo=tpe.suggest,\n",
        "    max_evals=100)\n",
        "print(best)"
      ],
      "execution_count": 2,
      "outputs": [
        {
          "output_type": "stream",
          "text": [
            "100%|██████████| 100/100 [00:00<00:00, 334.68it/s, best loss: 0.0011025392926310405]\n",
            "{'x': -0.033204507113207396}\n"
          ],
          "name": "stdout"
        }
      ]
    },
    {
      "cell_type": "code",
      "metadata": {
        "id": "qJypMBWmefig",
        "colab_type": "code",
        "colab": {
          "base_uri": "https://localhost:8080/",
          "height": 51
        },
        "outputId": "e02d325a-eea2-4b87-ced6-48176cb986c9"
      },
      "source": [
        "import pickle\n",
        "import time\n",
        "from hyperopt import fmin, tpe, hp, STATUS_OK\n",
        "\n",
        "def objective(x):\n",
        "    return {'loss': x ** 2, 'status': STATUS_OK }\n",
        "\n",
        "best = fmin(objective,\n",
        "    space=hp.uniform('x', -10, 10),\n",
        "    algo=tpe.suggest,\n",
        "    max_evals=100)\n",
        "\n",
        "print(best)"
      ],
      "execution_count": 5,
      "outputs": [
        {
          "output_type": "stream",
          "text": [
            "100%|██████████| 100/100 [00:00<00:00, 341.67it/s, best loss: 0.0005457240913769393]\n",
            "{'x': -0.023360738245546506}\n"
          ],
          "name": "stdout"
        }
      ]
    },
    {
      "cell_type": "code",
      "metadata": {
        "id": "ggN4UzcVe7MF",
        "colab_type": "code",
        "colab": {
          "base_uri": "https://localhost:8080/",
          "height": 88
        },
        "outputId": "90d1412e-fa6f-4b67-8ba3-c0ba6b12014b"
      },
      "source": [
        "import pickle\n",
        "import time\n",
        "from hyperopt import fmin, tpe, hp, STATUS_OK, Trials\n",
        "\n",
        "def objective(x):\n",
        "    return {\n",
        "        'loss': x ** 2,\n",
        "        'status': STATUS_OK,\n",
        "        # -- store other results like this\n",
        "        'eval_time': time.time(),\n",
        "        'other_stuff': {'type': None, 'value': [0, 1, 2]},\n",
        "        # -- attachments are handled differently\n",
        "        'attachments':\n",
        "            {'time_module': pickle.dumps(time.time)}\n",
        "        }\n",
        "trials = Trials()\n",
        "best = fmin(objective,\n",
        "    space=hp.uniform('x', -10, 10),\n",
        "    algo=tpe.suggest,\n",
        "    max_evals=100,\n",
        "    trials=trials)\n",
        "\n",
        "print(best)\n"
      ],
      "execution_count": 10,
      "outputs": [
        {
          "output_type": "stream",
          "text": [
            "100%|██████████| 100/100 [00:00<00:00, 313.77it/s, best loss: 0.006777942669417696]\n",
            "{'x': -0.08232826166886859}\n",
            "[31.913624797075364, 92.10309206604936, 10.363008097800142, 12.779034898303886, 82.89239001827016, 27.64578559164038, 49.393683235230014, 13.300227500874161, 3.5342159478521484, 21.652563008157404, 14.64550922494564, 40.2858329927461, 0.512961581742383, 13.458089112171718, 6.791469296135997, 80.75428810679882, 55.87580468907228, 22.943837371979445, 20.407276983185373, 0.14978930105489138, 0.5252852124279014, 1.3515736898018806, 0.3929510432033684, 63.99041951777086, 3.7622947057324367, 31.195745040389074, 0.6353777581848628, 4.49111549164959, 3.3685987257419563, 47.819542145901124, 11.20215008373673, 0.05228692751861772, 27.95592351202813, 0.1784411436772356, 92.57172624046756, 6.325844020807919, 49.644533695796355, 2.2623872453929588, 98.86861584680258, 1.6989653968954228, 65.12094011209129, 8.994388179134491, 16.8402802574741, 9.588265175973172, 0.007446714779325026, 34.13444611271376, 38.221798997360175, 18.316074855217494, 0.15589413028090518, 68.22289756775955, 4.837004595734237, 23.58967183376876, 10.847204479453193, 1.8927517750345093, 19.265807385926546, 54.60573654414486, 1.7601714309488525, 7.008955417479467, 0.007903306673205107, 17.550629557080892, 36.58821501321751, 36.175226797964804, 73.07617628827485, 1.1607671295463642, 14.580163879001686, 0.009112819158035228, 4.893570929928312, 0.03385149707256646, 1.0897210704391862, 5.436921078430917, 26.252335025702408, 3.657999840742959, 9.162638463348582, 0.006777942669417696, 0.35089647307051214, 29.52098528911648, 10.486069841173698, 7.031943962260328, 3.105293585803611, 0.6416483329312486, 14.46293088877032, 3.0009647286194108, 6.626494921744381, 15.064057339218337, 1.2535298132559056, 2.1660152517685964, 0.019691592813368606, 23.744636304528512, 45.18188231956437, 22.308186912830497, 0.6852951444827995, 38.26286071650665, 4.332914468219307, 8.991385032422913, 11.331099649869463, 18.518987899461273, 7.071032419194486, 0.29335279164585437, 63.95298669222765, 47.75732625829321]\n"
          ],
          "name": "stdout"
        }
      ]
    },
    {
      "cell_type": "code",
      "metadata": {
        "id": "fYX9znS0fG61",
        "colab_type": "code",
        "colab": {
          "base_uri": "https://localhost:8080/",
          "height": 105
        },
        "outputId": "8225da66-862e-4587-851d-90967c08090f"
      },
      "source": [
        "print(trials.trials)\n",
        "print(trials.results)\n",
        "print(trials.losses())\n",
        "print(trials.statuses())"
      ],
      "execution_count": 11,
      "outputs": [
        {
          "output_type": "stream",
          "text": [
            "[{'state': 2, 'tid': 0, 'spec': None, 'result': {'loss': 31.913624797075364, 'status': 'ok', 'eval_time': 1579650143.9867136, 'other_stuff': {'type': None, 'value': [0, 1, 2]}}, 'misc': {'tid': 0, 'cmd': ('domain_attachment', 'FMinIter_Domain'), 'workdir': None, 'idxs': {'x': [0]}, 'vals': {'x': [5.6492145292133635]}}, 'exp_key': None, 'owner': None, 'version': 0, 'book_time': datetime.datetime(2020, 1, 21, 23, 42, 23, 986000), 'refresh_time': datetime.datetime(2020, 1, 21, 23, 42, 23, 986000)}, {'state': 2, 'tid': 1, 'spec': None, 'result': {'loss': 92.10309206604936, 'status': 'ok', 'eval_time': 1579650143.9892435, 'other_stuff': {'type': None, 'value': [0, 1, 2]}}, 'misc': {'tid': 1, 'cmd': ('domain_attachment', 'FMinIter_Domain'), 'workdir': None, 'idxs': {'x': [1]}, 'vals': {'x': [9.597035587411842]}}, 'exp_key': None, 'owner': None, 'version': 0, 'book_time': datetime.datetime(2020, 1, 21, 23, 42, 23, 989000), 'refresh_time': datetime.datetime(2020, 1, 21, 23, 42, 23, 989000)}, {'state': 2, 'tid': 2, 'spec': None, 'result': {'loss': 10.363008097800142, 'status': 'ok', 'eval_time': 1579650143.9916134, 'other_stuff': {'type': None, 'value': [0, 1, 2]}}, 'misc': {'tid': 2, 'cmd': ('domain_attachment', 'FMinIter_Domain'), 'workdir': None, 'idxs': {'x': [2]}, 'vals': {'x': [3.2191626392278074]}}, 'exp_key': None, 'owner': None, 'version': 0, 'book_time': datetime.datetime(2020, 1, 21, 23, 42, 23, 991000), 'refresh_time': datetime.datetime(2020, 1, 21, 23, 42, 23, 991000)}, {'state': 2, 'tid': 3, 'spec': None, 'result': {'loss': 12.779034898303886, 'status': 'ok', 'eval_time': 1579650143.993471, 'other_stuff': {'type': None, 'value': [0, 1, 2]}}, 'misc': {'tid': 3, 'cmd': ('domain_attachment', 'FMinIter_Domain'), 'workdir': None, 'idxs': {'x': [3]}, 'vals': {'x': [3.574777601236738]}}, 'exp_key': None, 'owner': None, 'version': 0, 'book_time': datetime.datetime(2020, 1, 21, 23, 42, 23, 993000), 'refresh_time': datetime.datetime(2020, 1, 21, 23, 42, 23, 993000)}, {'state': 2, 'tid': 4, 'spec': None, 'result': {'loss': 82.89239001827016, 'status': 'ok', 'eval_time': 1579650143.9953964, 'other_stuff': {'type': None, 'value': [0, 1, 2]}}, 'misc': {'tid': 4, 'cmd': ('domain_attachment', 'FMinIter_Domain'), 'workdir': None, 'idxs': {'x': [4]}, 'vals': {'x': [-9.104525798649272]}}, 'exp_key': None, 'owner': None, 'version': 0, 'book_time': datetime.datetime(2020, 1, 21, 23, 42, 23, 995000), 'refresh_time': datetime.datetime(2020, 1, 21, 23, 42, 23, 995000)}, {'state': 2, 'tid': 5, 'spec': None, 'result': {'loss': 27.64578559164038, 'status': 'ok', 'eval_time': 1579650143.9972978, 'other_stuff': {'type': None, 'value': [0, 1, 2]}}, 'misc': {'tid': 5, 'cmd': ('domain_attachment', 'FMinIter_Domain'), 'workdir': None, 'idxs': {'x': [5]}, 'vals': {'x': [5.25792597814389]}}, 'exp_key': None, 'owner': None, 'version': 0, 'book_time': datetime.datetime(2020, 1, 21, 23, 42, 23, 997000), 'refresh_time': datetime.datetime(2020, 1, 21, 23, 42, 23, 997000)}, {'state': 2, 'tid': 6, 'spec': None, 'result': {'loss': 49.393683235230014, 'status': 'ok', 'eval_time': 1579650143.9988134, 'other_stuff': {'type': None, 'value': [0, 1, 2]}}, 'misc': {'tid': 6, 'cmd': ('domain_attachment', 'FMinIter_Domain'), 'workdir': None, 'idxs': {'x': [6]}, 'vals': {'x': [-7.028063974895932]}}, 'exp_key': None, 'owner': None, 'version': 0, 'book_time': datetime.datetime(2020, 1, 21, 23, 42, 23, 998000), 'refresh_time': datetime.datetime(2020, 1, 21, 23, 42, 23, 998000)}, {'state': 2, 'tid': 7, 'spec': None, 'result': {'loss': 13.300227500874161, 'status': 'ok', 'eval_time': 1579650144.0000942, 'other_stuff': {'type': None, 'value': [0, 1, 2]}}, 'misc': {'tid': 7, 'cmd': ('domain_attachment', 'FMinIter_Domain'), 'workdir': None, 'idxs': {'x': [7]}, 'vals': {'x': [3.646947696481835]}}, 'exp_key': None, 'owner': None, 'version': 0, 'book_time': datetime.datetime(2020, 1, 21, 23, 42, 24), 'refresh_time': datetime.datetime(2020, 1, 21, 23, 42, 24)}, {'state': 2, 'tid': 8, 'spec': None, 'result': {'loss': 3.5342159478521484, 'status': 'ok', 'eval_time': 1579650144.001421, 'other_stuff': {'type': None, 'value': [0, 1, 2]}}, 'misc': {'tid': 8, 'cmd': ('domain_attachment', 'FMinIter_Domain'), 'workdir': None, 'idxs': {'x': [8]}, 'vals': {'x': [-1.8799510493233988]}}, 'exp_key': None, 'owner': None, 'version': 0, 'book_time': datetime.datetime(2020, 1, 21, 23, 42, 24, 1000), 'refresh_time': datetime.datetime(2020, 1, 21, 23, 42, 24, 1000)}, {'state': 2, 'tid': 9, 'spec': None, 'result': {'loss': 21.652563008157404, 'status': 'ok', 'eval_time': 1579650144.002682, 'other_stuff': {'type': None, 'value': [0, 1, 2]}}, 'misc': {'tid': 9, 'cmd': ('domain_attachment', 'FMinIter_Domain'), 'workdir': None, 'idxs': {'x': [9]}, 'vals': {'x': [4.653231458691627]}}, 'exp_key': None, 'owner': None, 'version': 0, 'book_time': datetime.datetime(2020, 1, 21, 23, 42, 24, 2000), 'refresh_time': datetime.datetime(2020, 1, 21, 23, 42, 24, 2000)}, {'state': 2, 'tid': 10, 'spec': None, 'result': {'loss': 14.64550922494564, 'status': 'ok', 'eval_time': 1579650144.0040185, 'other_stuff': {'type': None, 'value': [0, 1, 2]}}, 'misc': {'tid': 10, 'cmd': ('domain_attachment', 'FMinIter_Domain'), 'workdir': None, 'idxs': {'x': [10]}, 'vals': {'x': [3.8269451557274294]}}, 'exp_key': None, 'owner': None, 'version': 0, 'book_time': datetime.datetime(2020, 1, 21, 23, 42, 24, 3000), 'refresh_time': datetime.datetime(2020, 1, 21, 23, 42, 24, 4000)}, {'state': 2, 'tid': 11, 'spec': None, 'result': {'loss': 40.2858329927461, 'status': 'ok', 'eval_time': 1579650144.0054212, 'other_stuff': {'type': None, 'value': [0, 1, 2]}}, 'misc': {'tid': 11, 'cmd': ('domain_attachment', 'FMinIter_Domain'), 'workdir': None, 'idxs': {'x': [11]}, 'vals': {'x': [6.347112177419437]}}, 'exp_key': None, 'owner': None, 'version': 0, 'book_time': datetime.datetime(2020, 1, 21, 23, 42, 24, 5000), 'refresh_time': datetime.datetime(2020, 1, 21, 23, 42, 24, 5000)}, {'state': 2, 'tid': 12, 'spec': None, 'result': {'loss': 0.512961581742383, 'status': 'ok', 'eval_time': 1579650144.0069244, 'other_stuff': {'type': None, 'value': [0, 1, 2]}}, 'misc': {'tid': 12, 'cmd': ('domain_attachment', 'FMinIter_Domain'), 'workdir': None, 'idxs': {'x': [12]}, 'vals': {'x': [-0.7162133632810708]}}, 'exp_key': None, 'owner': None, 'version': 0, 'book_time': datetime.datetime(2020, 1, 21, 23, 42, 24, 6000), 'refresh_time': datetime.datetime(2020, 1, 21, 23, 42, 24, 6000)}, {'state': 2, 'tid': 13, 'spec': None, 'result': {'loss': 13.458089112171718, 'status': 'ok', 'eval_time': 1579650144.0083065, 'other_stuff': {'type': None, 'value': [0, 1, 2]}}, 'misc': {'tid': 13, 'cmd': ('domain_attachment', 'FMinIter_Domain'), 'workdir': None, 'idxs': {'x': [13]}, 'vals': {'x': [-3.668526831327763]}}, 'exp_key': None, 'owner': None, 'version': 0, 'book_time': datetime.datetime(2020, 1, 21, 23, 42, 24, 8000), 'refresh_time': datetime.datetime(2020, 1, 21, 23, 42, 24, 8000)}, {'state': 2, 'tid': 14, 'spec': None, 'result': {'loss': 6.791469296135997, 'status': 'ok', 'eval_time': 1579650144.0099435, 'other_stuff': {'type': None, 'value': [0, 1, 2]}}, 'misc': {'tid': 14, 'cmd': ('domain_attachment', 'FMinIter_Domain'), 'workdir': None, 'idxs': {'x': [14]}, 'vals': {'x': [-2.606044760961714]}}, 'exp_key': None, 'owner': None, 'version': 0, 'book_time': datetime.datetime(2020, 1, 21, 23, 42, 24, 9000), 'refresh_time': datetime.datetime(2020, 1, 21, 23, 42, 24, 9000)}, {'state': 2, 'tid': 15, 'spec': None, 'result': {'loss': 80.75428810679882, 'status': 'ok', 'eval_time': 1579650144.0111752, 'other_stuff': {'type': None, 'value': [0, 1, 2]}}, 'misc': {'tid': 15, 'cmd': ('domain_attachment', 'FMinIter_Domain'), 'workdir': None, 'idxs': {'x': [15]}, 'vals': {'x': [-8.986338971282956]}}, 'exp_key': None, 'owner': None, 'version': 0, 'book_time': datetime.datetime(2020, 1, 21, 23, 42, 24, 11000), 'refresh_time': datetime.datetime(2020, 1, 21, 23, 42, 24, 11000)}, {'state': 2, 'tid': 16, 'spec': None, 'result': {'loss': 55.87580468907228, 'status': 'ok', 'eval_time': 1579650144.0123935, 'other_stuff': {'type': None, 'value': [0, 1, 2]}}, 'misc': {'tid': 16, 'cmd': ('domain_attachment', 'FMinIter_Domain'), 'workdir': None, 'idxs': {'x': [16]}, 'vals': {'x': [-7.475012019326275]}}, 'exp_key': None, 'owner': None, 'version': 0, 'book_time': datetime.datetime(2020, 1, 21, 23, 42, 24, 12000), 'refresh_time': datetime.datetime(2020, 1, 21, 23, 42, 24, 12000)}, {'state': 2, 'tid': 17, 'spec': None, 'result': {'loss': 22.943837371979445, 'status': 'ok', 'eval_time': 1579650144.013725, 'other_stuff': {'type': None, 'value': [0, 1, 2]}}, 'misc': {'tid': 17, 'cmd': ('domain_attachment', 'FMinIter_Domain'), 'workdir': None, 'idxs': {'x': [17]}, 'vals': {'x': [4.789972585723163]}}, 'exp_key': None, 'owner': None, 'version': 0, 'book_time': datetime.datetime(2020, 1, 21, 23, 42, 24, 13000), 'refresh_time': datetime.datetime(2020, 1, 21, 23, 42, 24, 13000)}, {'state': 2, 'tid': 18, 'spec': None, 'result': {'loss': 20.407276983185373, 'status': 'ok', 'eval_time': 1579650144.0150402, 'other_stuff': {'type': None, 'value': [0, 1, 2]}}, 'misc': {'tid': 18, 'cmd': ('domain_attachment', 'FMinIter_Domain'), 'workdir': None, 'idxs': {'x': [18]}, 'vals': {'x': [-4.51744142000595]}}, 'exp_key': None, 'owner': None, 'version': 0, 'book_time': datetime.datetime(2020, 1, 21, 23, 42, 24, 14000), 'refresh_time': datetime.datetime(2020, 1, 21, 23, 42, 24, 15000)}, {'state': 2, 'tid': 19, 'spec': None, 'result': {'loss': 0.14978930105489138, 'status': 'ok', 'eval_time': 1579650144.0162873, 'other_stuff': {'type': None, 'value': [0, 1, 2]}}, 'misc': {'tid': 19, 'cmd': ('domain_attachment', 'FMinIter_Domain'), 'workdir': None, 'idxs': {'x': [19]}, 'vals': {'x': [0.38702622786432883]}}, 'exp_key': None, 'owner': None, 'version': 0, 'book_time': datetime.datetime(2020, 1, 21, 23, 42, 24, 16000), 'refresh_time': datetime.datetime(2020, 1, 21, 23, 42, 24, 16000)}, {'state': 2, 'tid': 20, 'spec': None, 'result': {'loss': 0.5252852124279014, 'status': 'ok', 'eval_time': 1579650144.0210166, 'other_stuff': {'type': None, 'value': [0, 1, 2]}}, 'misc': {'tid': 20, 'cmd': ('domain_attachment', 'FMinIter_Domain'), 'workdir': None, 'idxs': {'x': [20]}, 'vals': {'x': [0.7247656258597681]}}, 'exp_key': None, 'owner': None, 'version': 0, 'book_time': datetime.datetime(2020, 1, 21, 23, 42, 24, 20000), 'refresh_time': datetime.datetime(2020, 1, 21, 23, 42, 24, 21000)}, {'state': 2, 'tid': 21, 'spec': None, 'result': {'loss': 1.3515736898018806, 'status': 'ok', 'eval_time': 1579650144.0244224, 'other_stuff': {'type': None, 'value': [0, 1, 2]}}, 'misc': {'tid': 21, 'cmd': ('domain_attachment', 'FMinIter_Domain'), 'workdir': None, 'idxs': {'x': [21]}, 'vals': {'x': [1.1625720148884888]}}, 'exp_key': None, 'owner': None, 'version': 0, 'book_time': datetime.datetime(2020, 1, 21, 23, 42, 24, 24000), 'refresh_time': datetime.datetime(2020, 1, 21, 23, 42, 24, 24000)}, {'state': 2, 'tid': 22, 'spec': None, 'result': {'loss': 0.3929510432033684, 'status': 'ok', 'eval_time': 1579650144.0277236, 'other_stuff': {'type': None, 'value': [0, 1, 2]}}, 'misc': {'tid': 22, 'cmd': ('domain_attachment', 'FMinIter_Domain'), 'workdir': None, 'idxs': {'x': [22]}, 'vals': {'x': [-0.6268580726156188]}}, 'exp_key': None, 'owner': None, 'version': 0, 'book_time': datetime.datetime(2020, 1, 21, 23, 42, 24, 27000), 'refresh_time': datetime.datetime(2020, 1, 21, 23, 42, 24, 27000)}, {'state': 2, 'tid': 23, 'spec': None, 'result': {'loss': 63.99041951777086, 'status': 'ok', 'eval_time': 1579650144.0312045, 'other_stuff': {'type': None, 'value': [0, 1, 2]}}, 'misc': {'tid': 23, 'cmd': ('domain_attachment', 'FMinIter_Domain'), 'workdir': None, 'idxs': {'x': [23]}, 'vals': {'x': [7.999401197450398]}}, 'exp_key': None, 'owner': None, 'version': 0, 'book_time': datetime.datetime(2020, 1, 21, 23, 42, 24, 31000), 'refresh_time': datetime.datetime(2020, 1, 21, 23, 42, 24, 31000)}, {'state': 2, 'tid': 24, 'spec': None, 'result': {'loss': 3.7622947057324367, 'status': 'ok', 'eval_time': 1579650144.0342379, 'other_stuff': {'type': None, 'value': [0, 1, 2]}}, 'misc': {'tid': 24, 'cmd': ('domain_attachment', 'FMinIter_Domain'), 'workdir': None, 'idxs': {'x': [24]}, 'vals': {'x': [1.93966355477759]}}, 'exp_key': None, 'owner': None, 'version': 0, 'book_time': datetime.datetime(2020, 1, 21, 23, 42, 24, 34000), 'refresh_time': datetime.datetime(2020, 1, 21, 23, 42, 24, 34000)}, {'state': 2, 'tid': 25, 'spec': None, 'result': {'loss': 31.195745040389074, 'status': 'ok', 'eval_time': 1579650144.0373642, 'other_stuff': {'type': None, 'value': [0, 1, 2]}}, 'misc': {'tid': 25, 'cmd': ('domain_attachment', 'FMinIter_Domain'), 'workdir': None, 'idxs': {'x': [25]}, 'vals': {'x': [-5.585315124537654]}}, 'exp_key': None, 'owner': None, 'version': 0, 'book_time': datetime.datetime(2020, 1, 21, 23, 42, 24, 37000), 'refresh_time': datetime.datetime(2020, 1, 21, 23, 42, 24, 37000)}, {'state': 2, 'tid': 26, 'spec': None, 'result': {'loss': 0.6353777581848628, 'status': 'ok', 'eval_time': 1579650144.040597, 'other_stuff': {'type': None, 'value': [0, 1, 2]}}, 'misc': {'tid': 26, 'cmd': ('domain_attachment', 'FMinIter_Domain'), 'workdir': None, 'idxs': {'x': [26]}, 'vals': {'x': [-0.7971058638505069]}}, 'exp_key': None, 'owner': None, 'version': 0, 'book_time': datetime.datetime(2020, 1, 21, 23, 42, 24, 40000), 'refresh_time': datetime.datetime(2020, 1, 21, 23, 42, 24, 40000)}, {'state': 2, 'tid': 27, 'spec': None, 'result': {'loss': 4.49111549164959, 'status': 'ok', 'eval_time': 1579650144.0435975, 'other_stuff': {'type': None, 'value': [0, 1, 2]}}, 'misc': {'tid': 27, 'cmd': ('domain_attachment', 'FMinIter_Domain'), 'workdir': None, 'idxs': {'x': [27]}, 'vals': {'x': [2.1192252102241493]}}, 'exp_key': None, 'owner': None, 'version': 0, 'book_time': datetime.datetime(2020, 1, 21, 23, 42, 24, 43000), 'refresh_time': datetime.datetime(2020, 1, 21, 23, 42, 24, 43000)}, {'state': 2, 'tid': 28, 'spec': None, 'result': {'loss': 3.3685987257419563, 'status': 'ok', 'eval_time': 1579650144.0476546, 'other_stuff': {'type': None, 'value': [0, 1, 2]}}, 'misc': {'tid': 28, 'cmd': ('domain_attachment', 'FMinIter_Domain'), 'workdir': None, 'idxs': {'x': [28]}, 'vals': {'x': [-1.8353742740220471]}}, 'exp_key': None, 'owner': None, 'version': 0, 'book_time': datetime.datetime(2020, 1, 21, 23, 42, 24, 47000), 'refresh_time': datetime.datetime(2020, 1, 21, 23, 42, 24, 47000)}, {'state': 2, 'tid': 29, 'spec': None, 'result': {'loss': 47.819542145901124, 'status': 'ok', 'eval_time': 1579650144.0507078, 'other_stuff': {'type': None, 'value': [0, 1, 2]}}, 'misc': {'tid': 29, 'cmd': ('domain_attachment', 'FMinIter_Domain'), 'workdir': None, 'idxs': {'x': [29]}, 'vals': {'x': [6.915167542865547]}}, 'exp_key': None, 'owner': None, 'version': 0, 'book_time': datetime.datetime(2020, 1, 21, 23, 42, 24, 50000), 'refresh_time': datetime.datetime(2020, 1, 21, 23, 42, 24, 50000)}, {'state': 2, 'tid': 30, 'spec': None, 'result': {'loss': 11.20215008373673, 'status': 'ok', 'eval_time': 1579650144.053857, 'other_stuff': {'type': None, 'value': [0, 1, 2]}}, 'misc': {'tid': 30, 'cmd': ('domain_attachment', 'FMinIter_Domain'), 'workdir': None, 'idxs': {'x': [30]}, 'vals': {'x': [-3.3469613209203253]}}, 'exp_key': None, 'owner': None, 'version': 0, 'book_time': datetime.datetime(2020, 1, 21, 23, 42, 24, 53000), 'refresh_time': datetime.datetime(2020, 1, 21, 23, 42, 24, 53000)}, {'state': 2, 'tid': 31, 'spec': None, 'result': {'loss': 0.05228692751861772, 'status': 'ok', 'eval_time': 1579650144.0569527, 'other_stuff': {'type': None, 'value': [0, 1, 2]}}, 'misc': {'tid': 31, 'cmd': ('domain_attachment', 'FMinIter_Domain'), 'workdir': None, 'idxs': {'x': [31]}, 'vals': {'x': [-0.22866334974940283]}}, 'exp_key': None, 'owner': None, 'version': 0, 'book_time': datetime.datetime(2020, 1, 21, 23, 42, 24, 56000), 'refresh_time': datetime.datetime(2020, 1, 21, 23, 42, 24, 57000)}, {'state': 2, 'tid': 32, 'spec': None, 'result': {'loss': 27.95592351202813, 'status': 'ok', 'eval_time': 1579650144.0601692, 'other_stuff': {'type': None, 'value': [0, 1, 2]}}, 'misc': {'tid': 32, 'cmd': ('domain_attachment', 'FMinIter_Domain'), 'workdir': None, 'idxs': {'x': [32]}, 'vals': {'x': [-5.287336145170659]}}, 'exp_key': None, 'owner': None, 'version': 0, 'book_time': datetime.datetime(2020, 1, 21, 23, 42, 24, 60000), 'refresh_time': datetime.datetime(2020, 1, 21, 23, 42, 24, 60000)}, {'state': 2, 'tid': 33, 'spec': None, 'result': {'loss': 0.1784411436772356, 'status': 'ok', 'eval_time': 1579650144.063527, 'other_stuff': {'type': None, 'value': [0, 1, 2]}}, 'misc': {'tid': 33, 'cmd': ('domain_attachment', 'FMinIter_Domain'), 'workdir': None, 'idxs': {'x': [33]}, 'vals': {'x': [0.4224229440705554]}}, 'exp_key': None, 'owner': None, 'version': 0, 'book_time': datetime.datetime(2020, 1, 21, 23, 42, 24, 63000), 'refresh_time': datetime.datetime(2020, 1, 21, 23, 42, 24, 63000)}, {'state': 2, 'tid': 34, 'spec': None, 'result': {'loss': 92.57172624046756, 'status': 'ok', 'eval_time': 1579650144.0666742, 'other_stuff': {'type': None, 'value': [0, 1, 2]}}, 'misc': {'tid': 34, 'cmd': ('domain_attachment', 'FMinIter_Domain'), 'workdir': None, 'idxs': {'x': [34]}, 'vals': {'x': [9.621420177939822]}}, 'exp_key': None, 'owner': None, 'version': 0, 'book_time': datetime.datetime(2020, 1, 21, 23, 42, 24, 66000), 'refresh_time': datetime.datetime(2020, 1, 21, 23, 42, 24, 66000)}, {'state': 2, 'tid': 35, 'spec': None, 'result': {'loss': 6.325844020807919, 'status': 'ok', 'eval_time': 1579650144.0700595, 'other_stuff': {'type': None, 'value': [0, 1, 2]}}, 'misc': {'tid': 35, 'cmd': ('domain_attachment', 'FMinIter_Domain'), 'workdir': None, 'idxs': {'x': [35]}, 'vals': {'x': [2.5151230627561585]}}, 'exp_key': None, 'owner': None, 'version': 0, 'book_time': datetime.datetime(2020, 1, 21, 23, 42, 24, 69000), 'refresh_time': datetime.datetime(2020, 1, 21, 23, 42, 24, 70000)}, {'state': 2, 'tid': 36, 'spec': None, 'result': {'loss': 49.644533695796355, 'status': 'ok', 'eval_time': 1579650144.0734222, 'other_stuff': {'type': None, 'value': [0, 1, 2]}}, 'misc': {'tid': 36, 'cmd': ('domain_attachment', 'FMinIter_Domain'), 'workdir': None, 'idxs': {'x': [36]}, 'vals': {'x': [-7.045887715241874]}}, 'exp_key': None, 'owner': None, 'version': 0, 'book_time': datetime.datetime(2020, 1, 21, 23, 42, 24, 73000), 'refresh_time': datetime.datetime(2020, 1, 21, 23, 42, 24, 73000)}, {'state': 2, 'tid': 37, 'spec': None, 'result': {'loss': 2.2623872453929588, 'status': 'ok', 'eval_time': 1579650144.076526, 'other_stuff': {'type': None, 'value': [0, 1, 2]}}, 'misc': {'tid': 37, 'cmd': ('domain_attachment', 'FMinIter_Domain'), 'workdir': None, 'idxs': {'x': [37]}, 'vals': {'x': [-1.5041234142825377]}}, 'exp_key': None, 'owner': None, 'version': 0, 'book_time': datetime.datetime(2020, 1, 21, 23, 42, 24, 76000), 'refresh_time': datetime.datetime(2020, 1, 21, 23, 42, 24, 76000)}, {'state': 2, 'tid': 38, 'spec': None, 'result': {'loss': 98.86861584680258, 'status': 'ok', 'eval_time': 1579650144.0802846, 'other_stuff': {'type': None, 'value': [0, 1, 2]}}, 'misc': {'tid': 38, 'cmd': ('domain_attachment', 'FMinIter_Domain'), 'workdir': None, 'idxs': {'x': [38]}, 'vals': {'x': [-9.943269876997334]}}, 'exp_key': None, 'owner': None, 'version': 0, 'book_time': datetime.datetime(2020, 1, 21, 23, 42, 24, 80000), 'refresh_time': datetime.datetime(2020, 1, 21, 23, 42, 24, 80000)}, {'state': 2, 'tid': 39, 'spec': None, 'result': {'loss': 1.6989653968954228, 'status': 'ok', 'eval_time': 1579650144.083686, 'other_stuff': {'type': None, 'value': [0, 1, 2]}}, 'misc': {'tid': 39, 'cmd': ('domain_attachment', 'FMinIter_Domain'), 'workdir': None, 'idxs': {'x': [39]}, 'vals': {'x': [1.303443668478014]}}, 'exp_key': None, 'owner': None, 'version': 0, 'book_time': datetime.datetime(2020, 1, 21, 23, 42, 24, 83000), 'refresh_time': datetime.datetime(2020, 1, 21, 23, 42, 24, 83000)}, {'state': 2, 'tid': 40, 'spec': None, 'result': {'loss': 65.12094011209129, 'status': 'ok', 'eval_time': 1579650144.0906088, 'other_stuff': {'type': None, 'value': [0, 1, 2]}}, 'misc': {'tid': 40, 'cmd': ('domain_attachment', 'FMinIter_Domain'), 'workdir': None, 'idxs': {'x': [40]}, 'vals': {'x': [8.069754650055433]}}, 'exp_key': None, 'owner': None, 'version': 0, 'book_time': datetime.datetime(2020, 1, 21, 23, 42, 24, 90000), 'refresh_time': datetime.datetime(2020, 1, 21, 23, 42, 24, 90000)}, {'state': 2, 'tid': 41, 'spec': None, 'result': {'loss': 8.994388179134491, 'status': 'ok', 'eval_time': 1579650144.0942683, 'other_stuff': {'type': None, 'value': [0, 1, 2]}}, 'misc': {'tid': 41, 'cmd': ('domain_attachment', 'FMinIter_Domain'), 'workdir': None, 'idxs': {'x': [41]}, 'vals': {'x': [2.999064550678176]}}, 'exp_key': None, 'owner': None, 'version': 0, 'book_time': datetime.datetime(2020, 1, 21, 23, 42, 24, 94000), 'refresh_time': datetime.datetime(2020, 1, 21, 23, 42, 24, 94000)}, {'state': 2, 'tid': 42, 'spec': None, 'result': {'loss': 16.8402802574741, 'status': 'ok', 'eval_time': 1579650144.0977738, 'other_stuff': {'type': None, 'value': [0, 1, 2]}}, 'misc': {'tid': 42, 'cmd': ('domain_attachment', 'FMinIter_Domain'), 'workdir': None, 'idxs': {'x': [42]}, 'vals': {'x': [4.103691052878384]}}, 'exp_key': None, 'owner': None, 'version': 0, 'book_time': datetime.datetime(2020, 1, 21, 23, 42, 24, 97000), 'refresh_time': datetime.datetime(2020, 1, 21, 23, 42, 24, 97000)}, {'state': 2, 'tid': 43, 'spec': None, 'result': {'loss': 9.588265175973172, 'status': 'ok', 'eval_time': 1579650144.1014419, 'other_stuff': {'type': None, 'value': [0, 1, 2]}}, 'misc': {'tid': 43, 'cmd': ('domain_attachment', 'FMinIter_Domain'), 'workdir': None, 'idxs': {'x': [43]}, 'vals': {'x': [-3.0964923988237354]}}, 'exp_key': None, 'owner': None, 'version': 0, 'book_time': datetime.datetime(2020, 1, 21, 23, 42, 24, 101000), 'refresh_time': datetime.datetime(2020, 1, 21, 23, 42, 24, 101000)}, {'state': 2, 'tid': 44, 'spec': None, 'result': {'loss': 0.007446714779325026, 'status': 'ok', 'eval_time': 1579650144.104767, 'other_stuff': {'type': None, 'value': [0, 1, 2]}}, 'misc': {'tid': 44, 'cmd': ('domain_attachment', 'FMinIter_Domain'), 'workdir': None, 'idxs': {'x': [44]}, 'vals': {'x': [-0.08629434963730259]}}, 'exp_key': None, 'owner': None, 'version': 0, 'book_time': datetime.datetime(2020, 1, 21, 23, 42, 24, 104000), 'refresh_time': datetime.datetime(2020, 1, 21, 23, 42, 24, 104000)}, {'state': 2, 'tid': 45, 'spec': None, 'result': {'loss': 34.13444611271376, 'status': 'ok', 'eval_time': 1579650144.108093, 'other_stuff': {'type': None, 'value': [0, 1, 2]}}, 'misc': {'tid': 45, 'cmd': ('domain_attachment', 'FMinIter_Domain'), 'workdir': None, 'idxs': {'x': [45]}, 'vals': {'x': [5.842469179440638]}}, 'exp_key': None, 'owner': None, 'version': 0, 'book_time': datetime.datetime(2020, 1, 21, 23, 42, 24, 108000), 'refresh_time': datetime.datetime(2020, 1, 21, 23, 42, 24, 108000)}, {'state': 2, 'tid': 46, 'spec': None, 'result': {'loss': 38.221798997360175, 'status': 'ok', 'eval_time': 1579650144.111549, 'other_stuff': {'type': None, 'value': [0, 1, 2]}}, 'misc': {'tid': 46, 'cmd': ('domain_attachment', 'FMinIter_Domain'), 'workdir': None, 'idxs': {'x': [46]}, 'vals': {'x': [-6.182378102102796]}}, 'exp_key': None, 'owner': None, 'version': 0, 'book_time': datetime.datetime(2020, 1, 21, 23, 42, 24, 111000), 'refresh_time': datetime.datetime(2020, 1, 21, 23, 42, 24, 111000)}, {'state': 2, 'tid': 47, 'spec': None, 'result': {'loss': 18.316074855217494, 'status': 'ok', 'eval_time': 1579650144.1159956, 'other_stuff': {'type': None, 'value': [0, 1, 2]}}, 'misc': {'tid': 47, 'cmd': ('domain_attachment', 'FMinIter_Domain'), 'workdir': None, 'idxs': {'x': [47]}, 'vals': {'x': [-4.279728362316643]}}, 'exp_key': None, 'owner': None, 'version': 0, 'book_time': datetime.datetime(2020, 1, 21, 23, 42, 24, 115000), 'refresh_time': datetime.datetime(2020, 1, 21, 23, 42, 24, 116000)}, {'state': 2, 'tid': 48, 'spec': None, 'result': {'loss': 0.15589413028090518, 'status': 'ok', 'eval_time': 1579650144.1196525, 'other_stuff': {'type': None, 'value': [0, 1, 2]}}, 'misc': {'tid': 48, 'cmd': ('domain_attachment', 'FMinIter_Domain'), 'workdir': None, 'idxs': {'x': [48]}, 'vals': {'x': [-0.39483430737577146]}}, 'exp_key': None, 'owner': None, 'version': 0, 'book_time': datetime.datetime(2020, 1, 21, 23, 42, 24, 119000), 'refresh_time': datetime.datetime(2020, 1, 21, 23, 42, 24, 119000)}, {'state': 2, 'tid': 49, 'spec': None, 'result': {'loss': 68.22289756775955, 'status': 'ok', 'eval_time': 1579650144.1230798, 'other_stuff': {'type': None, 'value': [0, 1, 2]}}, 'misc': {'tid': 49, 'cmd': ('domain_attachment', 'FMinIter_Domain'), 'workdir': None, 'idxs': {'x': [49]}, 'vals': {'x': [-8.25971534423309]}}, 'exp_key': None, 'owner': None, 'version': 0, 'book_time': datetime.datetime(2020, 1, 21, 23, 42, 24, 123000), 'refresh_time': datetime.datetime(2020, 1, 21, 23, 42, 24, 123000)}, {'state': 2, 'tid': 50, 'spec': None, 'result': {'loss': 4.837004595734237, 'status': 'ok', 'eval_time': 1579650144.1265976, 'other_stuff': {'type': None, 'value': [0, 1, 2]}}, 'misc': {'tid': 50, 'cmd': ('domain_attachment', 'FMinIter_Domain'), 'workdir': None, 'idxs': {'x': [50]}, 'vals': {'x': [-2.1993191209404417]}}, 'exp_key': None, 'owner': None, 'version': 0, 'book_time': datetime.datetime(2020, 1, 21, 23, 42, 24, 126000), 'refresh_time': datetime.datetime(2020, 1, 21, 23, 42, 24, 126000)}, {'state': 2, 'tid': 51, 'spec': None, 'result': {'loss': 23.58967183376876, 'status': 'ok', 'eval_time': 1579650144.1298873, 'other_stuff': {'type': None, 'value': [0, 1, 2]}}, 'misc': {'tid': 51, 'cmd': ('domain_attachment', 'FMinIter_Domain'), 'workdir': None, 'idxs': {'x': [51]}, 'vals': {'x': [4.85691999458183]}}, 'exp_key': None, 'owner': None, 'version': 0, 'book_time': datetime.datetime(2020, 1, 21, 23, 42, 24, 129000), 'refresh_time': datetime.datetime(2020, 1, 21, 23, 42, 24, 129000)}, {'state': 2, 'tid': 52, 'spec': None, 'result': {'loss': 10.847204479453193, 'status': 'ok', 'eval_time': 1579650144.1334774, 'other_stuff': {'type': None, 'value': [0, 1, 2]}}, 'misc': {'tid': 52, 'cmd': ('domain_attachment', 'FMinIter_Domain'), 'workdir': None, 'idxs': {'x': [52]}, 'vals': {'x': [3.293509447299824]}}, 'exp_key': None, 'owner': None, 'version': 0, 'book_time': datetime.datetime(2020, 1, 21, 23, 42, 24, 133000), 'refresh_time': datetime.datetime(2020, 1, 21, 23, 42, 24, 133000)}, {'state': 2, 'tid': 53, 'spec': None, 'result': {'loss': 1.8927517750345093, 'status': 'ok', 'eval_time': 1579650144.1366935, 'other_stuff': {'type': None, 'value': [0, 1, 2]}}, 'misc': {'tid': 53, 'cmd': ('domain_attachment', 'FMinIter_Domain'), 'workdir': None, 'idxs': {'x': [53]}, 'vals': {'x': [-1.3757731553691943]}}, 'exp_key': None, 'owner': None, 'version': 0, 'book_time': datetime.datetime(2020, 1, 21, 23, 42, 24, 136000), 'refresh_time': datetime.datetime(2020, 1, 21, 23, 42, 24, 136000)}, {'state': 2, 'tid': 54, 'spec': None, 'result': {'loss': 19.265807385926546, 'status': 'ok', 'eval_time': 1579650144.139771, 'other_stuff': {'type': None, 'value': [0, 1, 2]}}, 'misc': {'tid': 54, 'cmd': ('domain_attachment', 'FMinIter_Domain'), 'workdir': None, 'idxs': {'x': [54]}, 'vals': {'x': [-4.389283242845755]}}, 'exp_key': None, 'owner': None, 'version': 0, 'book_time': datetime.datetime(2020, 1, 21, 23, 42, 24, 139000), 'refresh_time': datetime.datetime(2020, 1, 21, 23, 42, 24, 139000)}, {'state': 2, 'tid': 55, 'spec': None, 'result': {'loss': 54.60573654414486, 'status': 'ok', 'eval_time': 1579650144.143115, 'other_stuff': {'type': None, 'value': [0, 1, 2]}}, 'misc': {'tid': 55, 'cmd': ('domain_attachment', 'FMinIter_Domain'), 'workdir': None, 'idxs': {'x': [55]}, 'vals': {'x': [7.389569442406294]}}, 'exp_key': None, 'owner': None, 'version': 0, 'book_time': datetime.datetime(2020, 1, 21, 23, 42, 24, 143000), 'refresh_time': datetime.datetime(2020, 1, 21, 23, 42, 24, 143000)}, {'state': 2, 'tid': 56, 'spec': None, 'result': {'loss': 1.7601714309488525, 'status': 'ok', 'eval_time': 1579650144.1465857, 'other_stuff': {'type': None, 'value': [0, 1, 2]}}, 'misc': {'tid': 56, 'cmd': ('domain_attachment', 'FMinIter_Domain'), 'workdir': None, 'idxs': {'x': [56]}, 'vals': {'x': [1.3267145250387713]}}, 'exp_key': None, 'owner': None, 'version': 0, 'book_time': datetime.datetime(2020, 1, 21, 23, 42, 24, 146000), 'refresh_time': datetime.datetime(2020, 1, 21, 23, 42, 24, 146000)}, {'state': 2, 'tid': 57, 'spec': None, 'result': {'loss': 7.008955417479467, 'status': 'ok', 'eval_time': 1579650144.1507688, 'other_stuff': {'type': None, 'value': [0, 1, 2]}}, 'misc': {'tid': 57, 'cmd': ('domain_attachment', 'FMinIter_Domain'), 'workdir': None, 'idxs': {'x': [57]}, 'vals': {'x': [-2.6474431849389077]}}, 'exp_key': None, 'owner': None, 'version': 0, 'book_time': datetime.datetime(2020, 1, 21, 23, 42, 24, 150000), 'refresh_time': datetime.datetime(2020, 1, 21, 23, 42, 24, 150000)}, {'state': 2, 'tid': 58, 'spec': None, 'result': {'loss': 0.007903306673205107, 'status': 'ok', 'eval_time': 1579650144.1552544, 'other_stuff': {'type': None, 'value': [0, 1, 2]}}, 'misc': {'tid': 58, 'cmd': ('domain_attachment', 'FMinIter_Domain'), 'workdir': None, 'idxs': {'x': [58]}, 'vals': {'x': [-0.08890054371715117]}}, 'exp_key': None, 'owner': None, 'version': 0, 'book_time': datetime.datetime(2020, 1, 21, 23, 42, 24, 155000), 'refresh_time': datetime.datetime(2020, 1, 21, 23, 42, 24, 155000)}, {'state': 2, 'tid': 59, 'spec': None, 'result': {'loss': 17.550629557080892, 'status': 'ok', 'eval_time': 1579650144.1589043, 'other_stuff': {'type': None, 'value': [0, 1, 2]}}, 'misc': {'tid': 59, 'cmd': ('domain_attachment', 'FMinIter_Domain'), 'workdir': None, 'idxs': {'x': [59]}, 'vals': {'x': [4.189347151655123]}}, 'exp_key': None, 'owner': None, 'version': 0, 'book_time': datetime.datetime(2020, 1, 21, 23, 42, 24, 158000), 'refresh_time': datetime.datetime(2020, 1, 21, 23, 42, 24, 158000)}, {'state': 2, 'tid': 60, 'spec': None, 'result': {'loss': 36.58821501321751, 'status': 'ok', 'eval_time': 1579650144.162098, 'other_stuff': {'type': None, 'value': [0, 1, 2]}}, 'misc': {'tid': 60, 'cmd': ('domain_attachment', 'FMinIter_Domain'), 'workdir': None, 'idxs': {'x': [60]}, 'vals': {'x': [-6.048819307370448]}}, 'exp_key': None, 'owner': None, 'version': 0, 'book_time': datetime.datetime(2020, 1, 21, 23, 42, 24, 162000), 'refresh_time': datetime.datetime(2020, 1, 21, 23, 42, 24, 162000)}, {'state': 2, 'tid': 61, 'spec': None, 'result': {'loss': 36.175226797964804, 'status': 'ok', 'eval_time': 1579650144.1657178, 'other_stuff': {'type': None, 'value': [0, 1, 2]}}, 'misc': {'tid': 61, 'cmd': ('domain_attachment', 'FMinIter_Domain'), 'workdir': None, 'idxs': {'x': [61]}, 'vals': {'x': [6.014584507508794]}}, 'exp_key': None, 'owner': None, 'version': 0, 'book_time': datetime.datetime(2020, 1, 21, 23, 42, 24, 165000), 'refresh_time': datetime.datetime(2020, 1, 21, 23, 42, 24, 165000)}, {'state': 2, 'tid': 62, 'spec': None, 'result': {'loss': 73.07617628827485, 'status': 'ok', 'eval_time': 1579650144.1689913, 'other_stuff': {'type': None, 'value': [0, 1, 2]}}, 'misc': {'tid': 62, 'cmd': ('domain_attachment', 'FMinIter_Domain'), 'workdir': None, 'idxs': {'x': [62]}, 'vals': {'x': [8.548460463046831]}}, 'exp_key': None, 'owner': None, 'version': 0, 'book_time': datetime.datetime(2020, 1, 21, 23, 42, 24, 168000), 'refresh_time': datetime.datetime(2020, 1, 21, 23, 42, 24, 169000)}, {'state': 2, 'tid': 63, 'spec': None, 'result': {'loss': 1.1607671295463642, 'status': 'ok', 'eval_time': 1579650144.1722398, 'other_stuff': {'type': None, 'value': [0, 1, 2]}}, 'misc': {'tid': 63, 'cmd': ('domain_attachment', 'FMinIter_Domain'), 'workdir': None, 'idxs': {'x': [63]}, 'vals': {'x': [-1.0773890335187026]}}, 'exp_key': None, 'owner': None, 'version': 0, 'book_time': datetime.datetime(2020, 1, 21, 23, 42, 24, 172000), 'refresh_time': datetime.datetime(2020, 1, 21, 23, 42, 24, 172000)}, {'state': 2, 'tid': 64, 'spec': None, 'result': {'loss': 14.580163879001686, 'status': 'ok', 'eval_time': 1579650144.1756518, 'other_stuff': {'type': None, 'value': [0, 1, 2]}}, 'misc': {'tid': 64, 'cmd': ('domain_attachment', 'FMinIter_Domain'), 'workdir': None, 'idxs': {'x': [64]}, 'vals': {'x': [-3.8183980775976836]}}, 'exp_key': None, 'owner': None, 'version': 0, 'book_time': datetime.datetime(2020, 1, 21, 23, 42, 24, 175000), 'refresh_time': datetime.datetime(2020, 1, 21, 23, 42, 24, 175000)}, {'state': 2, 'tid': 65, 'spec': None, 'result': {'loss': 0.009112819158035228, 'status': 'ok', 'eval_time': 1579650144.1788898, 'other_stuff': {'type': None, 'value': [0, 1, 2]}}, 'misc': {'tid': 65, 'cmd': ('domain_attachment', 'FMinIter_Domain'), 'workdir': None, 'idxs': {'x': [65]}, 'vals': {'x': [0.09546108714044288]}}, 'exp_key': None, 'owner': None, 'version': 0, 'book_time': datetime.datetime(2020, 1, 21, 23, 42, 24, 178000), 'refresh_time': datetime.datetime(2020, 1, 21, 23, 42, 24, 178000)}, {'state': 2, 'tid': 66, 'spec': None, 'result': {'loss': 4.893570929928312, 'status': 'ok', 'eval_time': 1579650144.181991, 'other_stuff': {'type': None, 'value': [0, 1, 2]}}, 'misc': {'tid': 66, 'cmd': ('domain_attachment', 'FMinIter_Domain'), 'workdir': None, 'idxs': {'x': [66]}, 'vals': {'x': [2.2121417065659044]}}, 'exp_key': None, 'owner': None, 'version': 0, 'book_time': datetime.datetime(2020, 1, 21, 23, 42, 24, 181000), 'refresh_time': datetime.datetime(2020, 1, 21, 23, 42, 24, 182000)}, {'state': 2, 'tid': 67, 'spec': None, 'result': {'loss': 0.03385149707256646, 'status': 'ok', 'eval_time': 1579650144.1855006, 'other_stuff': {'type': None, 'value': [0, 1, 2]}}, 'misc': {'tid': 67, 'cmd': ('domain_attachment', 'FMinIter_Domain'), 'workdir': None, 'idxs': {'x': [67]}, 'vals': {'x': [0.18398776337725958]}}, 'exp_key': None, 'owner': None, 'version': 0, 'book_time': datetime.datetime(2020, 1, 21, 23, 42, 24, 185000), 'refresh_time': datetime.datetime(2020, 1, 21, 23, 42, 24, 185000)}, {'state': 2, 'tid': 68, 'spec': None, 'result': {'loss': 1.0897210704391862, 'status': 'ok', 'eval_time': 1579650144.1924217, 'other_stuff': {'type': None, 'value': [0, 1, 2]}}, 'misc': {'tid': 68, 'cmd': ('domain_attachment', 'FMinIter_Domain'), 'workdir': None, 'idxs': {'x': [68]}, 'vals': {'x': [1.0438970593114947]}}, 'exp_key': None, 'owner': None, 'version': 0, 'book_time': datetime.datetime(2020, 1, 21, 23, 42, 24, 192000), 'refresh_time': datetime.datetime(2020, 1, 21, 23, 42, 24, 192000)}, {'state': 2, 'tid': 69, 'spec': None, 'result': {'loss': 5.436921078430917, 'status': 'ok', 'eval_time': 1579650144.1957924, 'other_stuff': {'type': None, 'value': [0, 1, 2]}}, 'misc': {'tid': 69, 'cmd': ('domain_attachment', 'FMinIter_Domain'), 'workdir': None, 'idxs': {'x': [69]}, 'vals': {'x': [-2.3317206261537673]}}, 'exp_key': None, 'owner': None, 'version': 0, 'book_time': datetime.datetime(2020, 1, 21, 23, 42, 24, 195000), 'refresh_time': datetime.datetime(2020, 1, 21, 23, 42, 24, 195000)}, {'state': 2, 'tid': 70, 'spec': None, 'result': {'loss': 26.252335025702408, 'status': 'ok', 'eval_time': 1579650144.1993027, 'other_stuff': {'type': None, 'value': [0, 1, 2]}}, 'misc': {'tid': 70, 'cmd': ('domain_attachment', 'FMinIter_Domain'), 'workdir': None, 'idxs': {'x': [70]}, 'vals': {'x': [-5.123703253087791]}}, 'exp_key': None, 'owner': None, 'version': 0, 'book_time': datetime.datetime(2020, 1, 21, 23, 42, 24, 199000), 'refresh_time': datetime.datetime(2020, 1, 21, 23, 42, 24, 199000)}, {'state': 2, 'tid': 71, 'spec': None, 'result': {'loss': 3.657999840742959, 'status': 'ok', 'eval_time': 1579650144.2029488, 'other_stuff': {'type': None, 'value': [0, 1, 2]}}, 'misc': {'tid': 71, 'cmd': ('domain_attachment', 'FMinIter_Domain'), 'workdir': None, 'idxs': {'x': [71]}, 'vals': {'x': [1.9125898255357732]}}, 'exp_key': None, 'owner': None, 'version': 0, 'book_time': datetime.datetime(2020, 1, 21, 23, 42, 24, 202000), 'refresh_time': datetime.datetime(2020, 1, 21, 23, 42, 24, 203000)}, {'state': 2, 'tid': 72, 'spec': None, 'result': {'loss': 9.162638463348582, 'status': 'ok', 'eval_time': 1579650144.2065017, 'other_stuff': {'type': None, 'value': [0, 1, 2]}}, 'misc': {'tid': 72, 'cmd': ('domain_attachment', 'FMinIter_Domain'), 'workdir': None, 'idxs': {'x': [72]}, 'vals': {'x': [3.026985045114789]}}, 'exp_key': None, 'owner': None, 'version': 0, 'book_time': datetime.datetime(2020, 1, 21, 23, 42, 24, 206000), 'refresh_time': datetime.datetime(2020, 1, 21, 23, 42, 24, 206000)}, {'state': 2, 'tid': 73, 'spec': None, 'result': {'loss': 0.006777942669417696, 'status': 'ok', 'eval_time': 1579650144.2103543, 'other_stuff': {'type': None, 'value': [0, 1, 2]}}, 'misc': {'tid': 73, 'cmd': ('domain_attachment', 'FMinIter_Domain'), 'workdir': None, 'idxs': {'x': [73]}, 'vals': {'x': [-0.08232826166886859]}}, 'exp_key': None, 'owner': None, 'version': 0, 'book_time': datetime.datetime(2020, 1, 21, 23, 42, 24, 210000), 'refresh_time': datetime.datetime(2020, 1, 21, 23, 42, 24, 210000)}, {'state': 2, 'tid': 74, 'spec': None, 'result': {'loss': 0.35089647307051214, 'status': 'ok', 'eval_time': 1579650144.2139924, 'other_stuff': {'type': None, 'value': [0, 1, 2]}}, 'misc': {'tid': 74, 'cmd': ('domain_attachment', 'FMinIter_Domain'), 'workdir': None, 'idxs': {'x': [74]}, 'vals': {'x': [0.5923651518029333]}}, 'exp_key': None, 'owner': None, 'version': 0, 'book_time': datetime.datetime(2020, 1, 21, 23, 42, 24, 213000), 'refresh_time': datetime.datetime(2020, 1, 21, 23, 42, 24, 214000)}, {'state': 2, 'tid': 75, 'spec': None, 'result': {'loss': 29.52098528911648, 'status': 'ok', 'eval_time': 1579650144.217663, 'other_stuff': {'type': None, 'value': [0, 1, 2]}}, 'misc': {'tid': 75, 'cmd': ('domain_attachment', 'FMinIter_Domain'), 'workdir': None, 'idxs': {'x': [75]}, 'vals': {'x': [5.433321754609834]}}, 'exp_key': None, 'owner': None, 'version': 0, 'book_time': datetime.datetime(2020, 1, 21, 23, 42, 24, 217000), 'refresh_time': datetime.datetime(2020, 1, 21, 23, 42, 24, 217000)}, {'state': 2, 'tid': 76, 'spec': None, 'result': {'loss': 10.486069841173698, 'status': 'ok', 'eval_time': 1579650144.2209213, 'other_stuff': {'type': None, 'value': [0, 1, 2]}}, 'misc': {'tid': 76, 'cmd': ('domain_attachment', 'FMinIter_Domain'), 'workdir': None, 'idxs': {'x': [76]}, 'vals': {'x': [-3.2382201656424936]}}, 'exp_key': None, 'owner': None, 'version': 0, 'book_time': datetime.datetime(2020, 1, 21, 23, 42, 24, 220000), 'refresh_time': datetime.datetime(2020, 1, 21, 23, 42, 24, 220000)}, {'state': 2, 'tid': 77, 'spec': None, 'result': {'loss': 7.031943962260328, 'status': 'ok', 'eval_time': 1579650144.2247229, 'other_stuff': {'type': None, 'value': [0, 1, 2]}}, 'misc': {'tid': 77, 'cmd': ('domain_attachment', 'FMinIter_Domain'), 'workdir': None, 'idxs': {'x': [77]}, 'vals': {'x': [2.6517812809996846]}}, 'exp_key': None, 'owner': None, 'version': 0, 'book_time': datetime.datetime(2020, 1, 21, 23, 42, 24, 224000), 'refresh_time': datetime.datetime(2020, 1, 21, 23, 42, 24, 224000)}, {'state': 2, 'tid': 78, 'spec': None, 'result': {'loss': 3.105293585803611, 'status': 'ok', 'eval_time': 1579650144.2283561, 'other_stuff': {'type': None, 'value': [0, 1, 2]}}, 'misc': {'tid': 78, 'cmd': ('domain_attachment', 'FMinIter_Domain'), 'workdir': None, 'idxs': {'x': [78]}, 'vals': {'x': [1.7621843223123996]}}, 'exp_key': None, 'owner': None, 'version': 0, 'book_time': datetime.datetime(2020, 1, 21, 23, 42, 24, 228000), 'refresh_time': datetime.datetime(2020, 1, 21, 23, 42, 24, 228000)}, {'state': 2, 'tid': 79, 'spec': None, 'result': {'loss': 0.6416483329312486, 'status': 'ok', 'eval_time': 1579650144.2316015, 'other_stuff': {'type': None, 'value': [0, 1, 2]}}, 'misc': {'tid': 79, 'cmd': ('domain_attachment', 'FMinIter_Domain'), 'workdir': None, 'idxs': {'x': [79]}, 'vals': {'x': [-0.8010295456044356]}}, 'exp_key': None, 'owner': None, 'version': 0, 'book_time': datetime.datetime(2020, 1, 21, 23, 42, 24, 231000), 'refresh_time': datetime.datetime(2020, 1, 21, 23, 42, 24, 231000)}, {'state': 2, 'tid': 80, 'spec': None, 'result': {'loss': 14.46293088877032, 'status': 'ok', 'eval_time': 1579650144.2348192, 'other_stuff': {'type': None, 'value': [0, 1, 2]}}, 'misc': {'tid': 80, 'cmd': ('domain_attachment', 'FMinIter_Domain'), 'workdir': None, 'idxs': {'x': [80]}, 'vals': {'x': [3.803016025310743]}}, 'exp_key': None, 'owner': None, 'version': 0, 'book_time': datetime.datetime(2020, 1, 21, 23, 42, 24, 234000), 'refresh_time': datetime.datetime(2020, 1, 21, 23, 42, 24, 234000)}, {'state': 2, 'tid': 81, 'spec': None, 'result': {'loss': 3.0009647286194108, 'status': 'ok', 'eval_time': 1579650144.2380571, 'other_stuff': {'type': None, 'value': [0, 1, 2]}}, 'misc': {'tid': 81, 'cmd': ('domain_attachment', 'FMinIter_Domain'), 'workdir': None, 'idxs': {'x': [81]}, 'vals': {'x': [-1.7323292783473385]}}, 'exp_key': None, 'owner': None, 'version': 0, 'book_time': datetime.datetime(2020, 1, 21, 23, 42, 24, 237000), 'refresh_time': datetime.datetime(2020, 1, 21, 23, 42, 24, 238000)}, {'state': 2, 'tid': 82, 'spec': None, 'result': {'loss': 6.626494921744381, 'status': 'ok', 'eval_time': 1579650144.2415304, 'other_stuff': {'type': None, 'value': [0, 1, 2]}}, 'misc': {'tid': 82, 'cmd': ('domain_attachment', 'FMinIter_Domain'), 'workdir': None, 'idxs': {'x': [82]}, 'vals': {'x': [-2.574197918137683]}}, 'exp_key': None, 'owner': None, 'version': 0, 'book_time': datetime.datetime(2020, 1, 21, 23, 42, 24, 241000), 'refresh_time': datetime.datetime(2020, 1, 21, 23, 42, 24, 241000)}, {'state': 2, 'tid': 83, 'spec': None, 'result': {'loss': 15.064057339218337, 'status': 'ok', 'eval_time': 1579650144.2452302, 'other_stuff': {'type': None, 'value': [0, 1, 2]}}, 'misc': {'tid': 83, 'cmd': ('domain_attachment', 'FMinIter_Domain'), 'workdir': None, 'idxs': {'x': [83]}, 'vals': {'x': [-3.881244302954703]}}, 'exp_key': None, 'owner': None, 'version': 0, 'book_time': datetime.datetime(2020, 1, 21, 23, 42, 24, 245000), 'refresh_time': datetime.datetime(2020, 1, 21, 23, 42, 24, 245000)}, {'state': 2, 'tid': 84, 'spec': None, 'result': {'loss': 1.2535298132559056, 'status': 'ok', 'eval_time': 1579650144.248788, 'other_stuff': {'type': None, 'value': [0, 1, 2]}}, 'misc': {'tid': 84, 'cmd': ('domain_attachment', 'FMinIter_Domain'), 'workdir': None, 'idxs': {'x': [84]}, 'vals': {'x': [-1.1196114563793573]}}, 'exp_key': None, 'owner': None, 'version': 0, 'book_time': datetime.datetime(2020, 1, 21, 23, 42, 24, 248000), 'refresh_time': datetime.datetime(2020, 1, 21, 23, 42, 24, 248000)}, {'state': 2, 'tid': 85, 'spec': None, 'result': {'loss': 2.1660152517685964, 'status': 'ok', 'eval_time': 1579650144.252511, 'other_stuff': {'type': None, 'value': [0, 1, 2]}}, 'misc': {'tid': 85, 'cmd': ('domain_attachment', 'FMinIter_Domain'), 'workdir': None, 'idxs': {'x': [85]}, 'vals': {'x': [1.4717388531151159]}}, 'exp_key': None, 'owner': None, 'version': 0, 'book_time': datetime.datetime(2020, 1, 21, 23, 42, 24, 252000), 'refresh_time': datetime.datetime(2020, 1, 21, 23, 42, 24, 252000)}, {'state': 2, 'tid': 86, 'spec': None, 'result': {'loss': 0.019691592813368606, 'status': 'ok', 'eval_time': 1579650144.25572, 'other_stuff': {'type': None, 'value': [0, 1, 2]}}, 'misc': {'tid': 86, 'cmd': ('domain_attachment', 'FMinIter_Domain'), 'workdir': None, 'idxs': {'x': [86]}, 'vals': {'x': [-0.14032673591788775]}}, 'exp_key': None, 'owner': None, 'version': 0, 'book_time': datetime.datetime(2020, 1, 21, 23, 42, 24, 255000), 'refresh_time': datetime.datetime(2020, 1, 21, 23, 42, 24, 255000)}, {'state': 2, 'tid': 87, 'spec': None, 'result': {'loss': 23.744636304528512, 'status': 'ok', 'eval_time': 1579650144.2590055, 'other_stuff': {'type': None, 'value': [0, 1, 2]}}, 'misc': {'tid': 87, 'cmd': ('domain_attachment', 'FMinIter_Domain'), 'workdir': None, 'idxs': {'x': [87]}, 'vals': {'x': [-4.872846837786769]}}, 'exp_key': None, 'owner': None, 'version': 0, 'book_time': datetime.datetime(2020, 1, 21, 23, 42, 24, 258000), 'refresh_time': datetime.datetime(2020, 1, 21, 23, 42, 24, 259000)}, {'state': 2, 'tid': 88, 'spec': None, 'result': {'loss': 45.18188231956437, 'status': 'ok', 'eval_time': 1579650144.2624025, 'other_stuff': {'type': None, 'value': [0, 1, 2]}}, 'misc': {'tid': 88, 'cmd': ('domain_attachment', 'FMinIter_Domain'), 'workdir': None, 'idxs': {'x': [88]}, 'vals': {'x': [6.721746969320131]}}, 'exp_key': None, 'owner': None, 'version': 0, 'book_time': datetime.datetime(2020, 1, 21, 23, 42, 24, 262000), 'refresh_time': datetime.datetime(2020, 1, 21, 23, 42, 24, 262000)}, {'state': 2, 'tid': 89, 'spec': None, 'result': {'loss': 22.308186912830497, 'status': 'ok', 'eval_time': 1579650144.265724, 'other_stuff': {'type': None, 'value': [0, 1, 2]}}, 'misc': {'tid': 89, 'cmd': ('domain_attachment', 'FMinIter_Domain'), 'workdir': None, 'idxs': {'x': [89]}, 'vals': {'x': [4.723154339298103]}}, 'exp_key': None, 'owner': None, 'version': 0, 'book_time': datetime.datetime(2020, 1, 21, 23, 42, 24, 265000), 'refresh_time': datetime.datetime(2020, 1, 21, 23, 42, 24, 265000)}, {'state': 2, 'tid': 90, 'spec': None, 'result': {'loss': 0.6852951444827995, 'status': 'ok', 'eval_time': 1579650144.2689176, 'other_stuff': {'type': None, 'value': [0, 1, 2]}}, 'misc': {'tid': 90, 'cmd': ('domain_attachment', 'FMinIter_Domain'), 'workdir': None, 'idxs': {'x': [90]}, 'vals': {'x': [0.8278255519629721]}}, 'exp_key': None, 'owner': None, 'version': 0, 'book_time': datetime.datetime(2020, 1, 21, 23, 42, 24, 268000), 'refresh_time': datetime.datetime(2020, 1, 21, 23, 42, 24, 268000)}, {'state': 2, 'tid': 91, 'spec': None, 'result': {'loss': 38.26286071650665, 'status': 'ok', 'eval_time': 1579650144.2720742, 'other_stuff': {'type': None, 'value': [0, 1, 2]}}, 'misc': {'tid': 91, 'cmd': ('domain_attachment', 'FMinIter_Domain'), 'workdir': None, 'idxs': {'x': [91]}, 'vals': {'x': [-6.185698078350304]}}, 'exp_key': None, 'owner': None, 'version': 0, 'book_time': datetime.datetime(2020, 1, 21, 23, 42, 24, 272000), 'refresh_time': datetime.datetime(2020, 1, 21, 23, 42, 24, 272000)}, {'state': 2, 'tid': 92, 'spec': None, 'result': {'loss': 4.332914468219307, 'status': 'ok', 'eval_time': 1579650144.2753694, 'other_stuff': {'type': None, 'value': [0, 1, 2]}}, 'misc': {'tid': 92, 'cmd': ('domain_attachment', 'FMinIter_Domain'), 'workdir': None, 'idxs': {'x': [92]}, 'vals': {'x': [-2.081565388888686]}}, 'exp_key': None, 'owner': None, 'version': 0, 'book_time': datetime.datetime(2020, 1, 21, 23, 42, 24, 275000), 'refresh_time': datetime.datetime(2020, 1, 21, 23, 42, 24, 275000)}, {'state': 2, 'tid': 93, 'spec': None, 'result': {'loss': 8.991385032422913, 'status': 'ok', 'eval_time': 1579650144.2785254, 'other_stuff': {'type': None, 'value': [0, 1, 2]}}, 'misc': {'tid': 93, 'cmd': ('domain_attachment', 'FMinIter_Domain'), 'workdir': None, 'idxs': {'x': [93]}, 'vals': {'x': [-2.9985638283056297]}}, 'exp_key': None, 'owner': None, 'version': 0, 'book_time': datetime.datetime(2020, 1, 21, 23, 42, 24, 278000), 'refresh_time': datetime.datetime(2020, 1, 21, 23, 42, 24, 278000)}, {'state': 2, 'tid': 94, 'spec': None, 'result': {'loss': 11.331099649869463, 'status': 'ok', 'eval_time': 1579650144.2817738, 'other_stuff': {'type': None, 'value': [0, 1, 2]}}, 'misc': {'tid': 94, 'cmd': ('domain_attachment', 'FMinIter_Domain'), 'workdir': None, 'idxs': {'x': [94]}, 'vals': {'x': [3.366169878343852]}}, 'exp_key': None, 'owner': None, 'version': 0, 'book_time': datetime.datetime(2020, 1, 21, 23, 42, 24, 281000), 'refresh_time': datetime.datetime(2020, 1, 21, 23, 42, 24, 281000)}, {'state': 2, 'tid': 95, 'spec': None, 'result': {'loss': 18.518987899461273, 'status': 'ok', 'eval_time': 1579650144.285065, 'other_stuff': {'type': None, 'value': [0, 1, 2]}}, 'misc': {'tid': 95, 'cmd': ('domain_attachment', 'FMinIter_Domain'), 'workdir': None, 'idxs': {'x': [95]}, 'vals': {'x': [4.303369365911004]}}, 'exp_key': None, 'owner': None, 'version': 0, 'book_time': datetime.datetime(2020, 1, 21, 23, 42, 24, 284000), 'refresh_time': datetime.datetime(2020, 1, 21, 23, 42, 24, 285000)}, {'state': 2, 'tid': 96, 'spec': None, 'result': {'loss': 7.071032419194486, 'status': 'ok', 'eval_time': 1579650144.2883565, 'other_stuff': {'type': None, 'value': [0, 1, 2]}}, 'misc': {'tid': 96, 'cmd': ('domain_attachment', 'FMinIter_Domain'), 'workdir': None, 'idxs': {'x': [96]}, 'vals': {'x': [2.659141293574767]}}, 'exp_key': None, 'owner': None, 'version': 0, 'book_time': datetime.datetime(2020, 1, 21, 23, 42, 24, 288000), 'refresh_time': datetime.datetime(2020, 1, 21, 23, 42, 24, 288000)}, {'state': 2, 'tid': 97, 'spec': None, 'result': {'loss': 0.29335279164585437, 'status': 'ok', 'eval_time': 1579650144.2948983, 'other_stuff': {'type': None, 'value': [0, 1, 2]}}, 'misc': {'tid': 97, 'cmd': ('domain_attachment', 'FMinIter_Domain'), 'workdir': None, 'idxs': {'x': [97]}, 'vals': {'x': [-0.5416205236564198]}}, 'exp_key': None, 'owner': None, 'version': 0, 'book_time': datetime.datetime(2020, 1, 21, 23, 42, 24, 294000), 'refresh_time': datetime.datetime(2020, 1, 21, 23, 42, 24, 294000)}, {'state': 2, 'tid': 98, 'spec': None, 'result': {'loss': 63.95298669222765, 'status': 'ok', 'eval_time': 1579650144.2983437, 'other_stuff': {'type': None, 'value': [0, 1, 2]}}, 'misc': {'tid': 98, 'cmd': ('domain_attachment', 'FMinIter_Domain'), 'workdir': None, 'idxs': {'x': [98]}, 'vals': {'x': [-7.997061128453855]}}, 'exp_key': None, 'owner': None, 'version': 0, 'book_time': datetime.datetime(2020, 1, 21, 23, 42, 24, 298000), 'refresh_time': datetime.datetime(2020, 1, 21, 23, 42, 24, 298000)}, {'state': 2, 'tid': 99, 'spec': None, 'result': {'loss': 47.75732625829321, 'status': 'ok', 'eval_time': 1579650144.301668, 'other_stuff': {'type': None, 'value': [0, 1, 2]}}, 'misc': {'tid': 99, 'cmd': ('domain_attachment', 'FMinIter_Domain'), 'workdir': None, 'idxs': {'x': [99]}, 'vals': {'x': [-6.910667569655859]}}, 'exp_key': None, 'owner': None, 'version': 0, 'book_time': datetime.datetime(2020, 1, 21, 23, 42, 24, 301000), 'refresh_time': datetime.datetime(2020, 1, 21, 23, 42, 24, 301000)}]\n",
            "[{'loss': 31.913624797075364, 'status': 'ok', 'eval_time': 1579650143.9867136, 'other_stuff': {'type': None, 'value': [0, 1, 2]}}, {'loss': 92.10309206604936, 'status': 'ok', 'eval_time': 1579650143.9892435, 'other_stuff': {'type': None, 'value': [0, 1, 2]}}, {'loss': 10.363008097800142, 'status': 'ok', 'eval_time': 1579650143.9916134, 'other_stuff': {'type': None, 'value': [0, 1, 2]}}, {'loss': 12.779034898303886, 'status': 'ok', 'eval_time': 1579650143.993471, 'other_stuff': {'type': None, 'value': [0, 1, 2]}}, {'loss': 82.89239001827016, 'status': 'ok', 'eval_time': 1579650143.9953964, 'other_stuff': {'type': None, 'value': [0, 1, 2]}}, {'loss': 27.64578559164038, 'status': 'ok', 'eval_time': 1579650143.9972978, 'other_stuff': {'type': None, 'value': [0, 1, 2]}}, {'loss': 49.393683235230014, 'status': 'ok', 'eval_time': 1579650143.9988134, 'other_stuff': {'type': None, 'value': [0, 1, 2]}}, {'loss': 13.300227500874161, 'status': 'ok', 'eval_time': 1579650144.0000942, 'other_stuff': {'type': None, 'value': [0, 1, 2]}}, {'loss': 3.5342159478521484, 'status': 'ok', 'eval_time': 1579650144.001421, 'other_stuff': {'type': None, 'value': [0, 1, 2]}}, {'loss': 21.652563008157404, 'status': 'ok', 'eval_time': 1579650144.002682, 'other_stuff': {'type': None, 'value': [0, 1, 2]}}, {'loss': 14.64550922494564, 'status': 'ok', 'eval_time': 1579650144.0040185, 'other_stuff': {'type': None, 'value': [0, 1, 2]}}, {'loss': 40.2858329927461, 'status': 'ok', 'eval_time': 1579650144.0054212, 'other_stuff': {'type': None, 'value': [0, 1, 2]}}, {'loss': 0.512961581742383, 'status': 'ok', 'eval_time': 1579650144.0069244, 'other_stuff': {'type': None, 'value': [0, 1, 2]}}, {'loss': 13.458089112171718, 'status': 'ok', 'eval_time': 1579650144.0083065, 'other_stuff': {'type': None, 'value': [0, 1, 2]}}, {'loss': 6.791469296135997, 'status': 'ok', 'eval_time': 1579650144.0099435, 'other_stuff': {'type': None, 'value': [0, 1, 2]}}, {'loss': 80.75428810679882, 'status': 'ok', 'eval_time': 1579650144.0111752, 'other_stuff': {'type': None, 'value': [0, 1, 2]}}, {'loss': 55.87580468907228, 'status': 'ok', 'eval_time': 1579650144.0123935, 'other_stuff': {'type': None, 'value': [0, 1, 2]}}, {'loss': 22.943837371979445, 'status': 'ok', 'eval_time': 1579650144.013725, 'other_stuff': {'type': None, 'value': [0, 1, 2]}}, {'loss': 20.407276983185373, 'status': 'ok', 'eval_time': 1579650144.0150402, 'other_stuff': {'type': None, 'value': [0, 1, 2]}}, {'loss': 0.14978930105489138, 'status': 'ok', 'eval_time': 1579650144.0162873, 'other_stuff': {'type': None, 'value': [0, 1, 2]}}, {'loss': 0.5252852124279014, 'status': 'ok', 'eval_time': 1579650144.0210166, 'other_stuff': {'type': None, 'value': [0, 1, 2]}}, {'loss': 1.3515736898018806, 'status': 'ok', 'eval_time': 1579650144.0244224, 'other_stuff': {'type': None, 'value': [0, 1, 2]}}, {'loss': 0.3929510432033684, 'status': 'ok', 'eval_time': 1579650144.0277236, 'other_stuff': {'type': None, 'value': [0, 1, 2]}}, {'loss': 63.99041951777086, 'status': 'ok', 'eval_time': 1579650144.0312045, 'other_stuff': {'type': None, 'value': [0, 1, 2]}}, {'loss': 3.7622947057324367, 'status': 'ok', 'eval_time': 1579650144.0342379, 'other_stuff': {'type': None, 'value': [0, 1, 2]}}, {'loss': 31.195745040389074, 'status': 'ok', 'eval_time': 1579650144.0373642, 'other_stuff': {'type': None, 'value': [0, 1, 2]}}, {'loss': 0.6353777581848628, 'status': 'ok', 'eval_time': 1579650144.040597, 'other_stuff': {'type': None, 'value': [0, 1, 2]}}, {'loss': 4.49111549164959, 'status': 'ok', 'eval_time': 1579650144.0435975, 'other_stuff': {'type': None, 'value': [0, 1, 2]}}, {'loss': 3.3685987257419563, 'status': 'ok', 'eval_time': 1579650144.0476546, 'other_stuff': {'type': None, 'value': [0, 1, 2]}}, {'loss': 47.819542145901124, 'status': 'ok', 'eval_time': 1579650144.0507078, 'other_stuff': {'type': None, 'value': [0, 1, 2]}}, {'loss': 11.20215008373673, 'status': 'ok', 'eval_time': 1579650144.053857, 'other_stuff': {'type': None, 'value': [0, 1, 2]}}, {'loss': 0.05228692751861772, 'status': 'ok', 'eval_time': 1579650144.0569527, 'other_stuff': {'type': None, 'value': [0, 1, 2]}}, {'loss': 27.95592351202813, 'status': 'ok', 'eval_time': 1579650144.0601692, 'other_stuff': {'type': None, 'value': [0, 1, 2]}}, {'loss': 0.1784411436772356, 'status': 'ok', 'eval_time': 1579650144.063527, 'other_stuff': {'type': None, 'value': [0, 1, 2]}}, {'loss': 92.57172624046756, 'status': 'ok', 'eval_time': 1579650144.0666742, 'other_stuff': {'type': None, 'value': [0, 1, 2]}}, {'loss': 6.325844020807919, 'status': 'ok', 'eval_time': 1579650144.0700595, 'other_stuff': {'type': None, 'value': [0, 1, 2]}}, {'loss': 49.644533695796355, 'status': 'ok', 'eval_time': 1579650144.0734222, 'other_stuff': {'type': None, 'value': [0, 1, 2]}}, {'loss': 2.2623872453929588, 'status': 'ok', 'eval_time': 1579650144.076526, 'other_stuff': {'type': None, 'value': [0, 1, 2]}}, {'loss': 98.86861584680258, 'status': 'ok', 'eval_time': 1579650144.0802846, 'other_stuff': {'type': None, 'value': [0, 1, 2]}}, {'loss': 1.6989653968954228, 'status': 'ok', 'eval_time': 1579650144.083686, 'other_stuff': {'type': None, 'value': [0, 1, 2]}}, {'loss': 65.12094011209129, 'status': 'ok', 'eval_time': 1579650144.0906088, 'other_stuff': {'type': None, 'value': [0, 1, 2]}}, {'loss': 8.994388179134491, 'status': 'ok', 'eval_time': 1579650144.0942683, 'other_stuff': {'type': None, 'value': [0, 1, 2]}}, {'loss': 16.8402802574741, 'status': 'ok', 'eval_time': 1579650144.0977738, 'other_stuff': {'type': None, 'value': [0, 1, 2]}}, {'loss': 9.588265175973172, 'status': 'ok', 'eval_time': 1579650144.1014419, 'other_stuff': {'type': None, 'value': [0, 1, 2]}}, {'loss': 0.007446714779325026, 'status': 'ok', 'eval_time': 1579650144.104767, 'other_stuff': {'type': None, 'value': [0, 1, 2]}}, {'loss': 34.13444611271376, 'status': 'ok', 'eval_time': 1579650144.108093, 'other_stuff': {'type': None, 'value': [0, 1, 2]}}, {'loss': 38.221798997360175, 'status': 'ok', 'eval_time': 1579650144.111549, 'other_stuff': {'type': None, 'value': [0, 1, 2]}}, {'loss': 18.316074855217494, 'status': 'ok', 'eval_time': 1579650144.1159956, 'other_stuff': {'type': None, 'value': [0, 1, 2]}}, {'loss': 0.15589413028090518, 'status': 'ok', 'eval_time': 1579650144.1196525, 'other_stuff': {'type': None, 'value': [0, 1, 2]}}, {'loss': 68.22289756775955, 'status': 'ok', 'eval_time': 1579650144.1230798, 'other_stuff': {'type': None, 'value': [0, 1, 2]}}, {'loss': 4.837004595734237, 'status': 'ok', 'eval_time': 1579650144.1265976, 'other_stuff': {'type': None, 'value': [0, 1, 2]}}, {'loss': 23.58967183376876, 'status': 'ok', 'eval_time': 1579650144.1298873, 'other_stuff': {'type': None, 'value': [0, 1, 2]}}, {'loss': 10.847204479453193, 'status': 'ok', 'eval_time': 1579650144.1334774, 'other_stuff': {'type': None, 'value': [0, 1, 2]}}, {'loss': 1.8927517750345093, 'status': 'ok', 'eval_time': 1579650144.1366935, 'other_stuff': {'type': None, 'value': [0, 1, 2]}}, {'loss': 19.265807385926546, 'status': 'ok', 'eval_time': 1579650144.139771, 'other_stuff': {'type': None, 'value': [0, 1, 2]}}, {'loss': 54.60573654414486, 'status': 'ok', 'eval_time': 1579650144.143115, 'other_stuff': {'type': None, 'value': [0, 1, 2]}}, {'loss': 1.7601714309488525, 'status': 'ok', 'eval_time': 1579650144.1465857, 'other_stuff': {'type': None, 'value': [0, 1, 2]}}, {'loss': 7.008955417479467, 'status': 'ok', 'eval_time': 1579650144.1507688, 'other_stuff': {'type': None, 'value': [0, 1, 2]}}, {'loss': 0.007903306673205107, 'status': 'ok', 'eval_time': 1579650144.1552544, 'other_stuff': {'type': None, 'value': [0, 1, 2]}}, {'loss': 17.550629557080892, 'status': 'ok', 'eval_time': 1579650144.1589043, 'other_stuff': {'type': None, 'value': [0, 1, 2]}}, {'loss': 36.58821501321751, 'status': 'ok', 'eval_time': 1579650144.162098, 'other_stuff': {'type': None, 'value': [0, 1, 2]}}, {'loss': 36.175226797964804, 'status': 'ok', 'eval_time': 1579650144.1657178, 'other_stuff': {'type': None, 'value': [0, 1, 2]}}, {'loss': 73.07617628827485, 'status': 'ok', 'eval_time': 1579650144.1689913, 'other_stuff': {'type': None, 'value': [0, 1, 2]}}, {'loss': 1.1607671295463642, 'status': 'ok', 'eval_time': 1579650144.1722398, 'other_stuff': {'type': None, 'value': [0, 1, 2]}}, {'loss': 14.580163879001686, 'status': 'ok', 'eval_time': 1579650144.1756518, 'other_stuff': {'type': None, 'value': [0, 1, 2]}}, {'loss': 0.009112819158035228, 'status': 'ok', 'eval_time': 1579650144.1788898, 'other_stuff': {'type': None, 'value': [0, 1, 2]}}, {'loss': 4.893570929928312, 'status': 'ok', 'eval_time': 1579650144.181991, 'other_stuff': {'type': None, 'value': [0, 1, 2]}}, {'loss': 0.03385149707256646, 'status': 'ok', 'eval_time': 1579650144.1855006, 'other_stuff': {'type': None, 'value': [0, 1, 2]}}, {'loss': 1.0897210704391862, 'status': 'ok', 'eval_time': 1579650144.1924217, 'other_stuff': {'type': None, 'value': [0, 1, 2]}}, {'loss': 5.436921078430917, 'status': 'ok', 'eval_time': 1579650144.1957924, 'other_stuff': {'type': None, 'value': [0, 1, 2]}}, {'loss': 26.252335025702408, 'status': 'ok', 'eval_time': 1579650144.1993027, 'other_stuff': {'type': None, 'value': [0, 1, 2]}}, {'loss': 3.657999840742959, 'status': 'ok', 'eval_time': 1579650144.2029488, 'other_stuff': {'type': None, 'value': [0, 1, 2]}}, {'loss': 9.162638463348582, 'status': 'ok', 'eval_time': 1579650144.2065017, 'other_stuff': {'type': None, 'value': [0, 1, 2]}}, {'loss': 0.006777942669417696, 'status': 'ok', 'eval_time': 1579650144.2103543, 'other_stuff': {'type': None, 'value': [0, 1, 2]}}, {'loss': 0.35089647307051214, 'status': 'ok', 'eval_time': 1579650144.2139924, 'other_stuff': {'type': None, 'value': [0, 1, 2]}}, {'loss': 29.52098528911648, 'status': 'ok', 'eval_time': 1579650144.217663, 'other_stuff': {'type': None, 'value': [0, 1, 2]}}, {'loss': 10.486069841173698, 'status': 'ok', 'eval_time': 1579650144.2209213, 'other_stuff': {'type': None, 'value': [0, 1, 2]}}, {'loss': 7.031943962260328, 'status': 'ok', 'eval_time': 1579650144.2247229, 'other_stuff': {'type': None, 'value': [0, 1, 2]}}, {'loss': 3.105293585803611, 'status': 'ok', 'eval_time': 1579650144.2283561, 'other_stuff': {'type': None, 'value': [0, 1, 2]}}, {'loss': 0.6416483329312486, 'status': 'ok', 'eval_time': 1579650144.2316015, 'other_stuff': {'type': None, 'value': [0, 1, 2]}}, {'loss': 14.46293088877032, 'status': 'ok', 'eval_time': 1579650144.2348192, 'other_stuff': {'type': None, 'value': [0, 1, 2]}}, {'loss': 3.0009647286194108, 'status': 'ok', 'eval_time': 1579650144.2380571, 'other_stuff': {'type': None, 'value': [0, 1, 2]}}, {'loss': 6.626494921744381, 'status': 'ok', 'eval_time': 1579650144.2415304, 'other_stuff': {'type': None, 'value': [0, 1, 2]}}, {'loss': 15.064057339218337, 'status': 'ok', 'eval_time': 1579650144.2452302, 'other_stuff': {'type': None, 'value': [0, 1, 2]}}, {'loss': 1.2535298132559056, 'status': 'ok', 'eval_time': 1579650144.248788, 'other_stuff': {'type': None, 'value': [0, 1, 2]}}, {'loss': 2.1660152517685964, 'status': 'ok', 'eval_time': 1579650144.252511, 'other_stuff': {'type': None, 'value': [0, 1, 2]}}, {'loss': 0.019691592813368606, 'status': 'ok', 'eval_time': 1579650144.25572, 'other_stuff': {'type': None, 'value': [0, 1, 2]}}, {'loss': 23.744636304528512, 'status': 'ok', 'eval_time': 1579650144.2590055, 'other_stuff': {'type': None, 'value': [0, 1, 2]}}, {'loss': 45.18188231956437, 'status': 'ok', 'eval_time': 1579650144.2624025, 'other_stuff': {'type': None, 'value': [0, 1, 2]}}, {'loss': 22.308186912830497, 'status': 'ok', 'eval_time': 1579650144.265724, 'other_stuff': {'type': None, 'value': [0, 1, 2]}}, {'loss': 0.6852951444827995, 'status': 'ok', 'eval_time': 1579650144.2689176, 'other_stuff': {'type': None, 'value': [0, 1, 2]}}, {'loss': 38.26286071650665, 'status': 'ok', 'eval_time': 1579650144.2720742, 'other_stuff': {'type': None, 'value': [0, 1, 2]}}, {'loss': 4.332914468219307, 'status': 'ok', 'eval_time': 1579650144.2753694, 'other_stuff': {'type': None, 'value': [0, 1, 2]}}, {'loss': 8.991385032422913, 'status': 'ok', 'eval_time': 1579650144.2785254, 'other_stuff': {'type': None, 'value': [0, 1, 2]}}, {'loss': 11.331099649869463, 'status': 'ok', 'eval_time': 1579650144.2817738, 'other_stuff': {'type': None, 'value': [0, 1, 2]}}, {'loss': 18.518987899461273, 'status': 'ok', 'eval_time': 1579650144.285065, 'other_stuff': {'type': None, 'value': [0, 1, 2]}}, {'loss': 7.071032419194486, 'status': 'ok', 'eval_time': 1579650144.2883565, 'other_stuff': {'type': None, 'value': [0, 1, 2]}}, {'loss': 0.29335279164585437, 'status': 'ok', 'eval_time': 1579650144.2948983, 'other_stuff': {'type': None, 'value': [0, 1, 2]}}, {'loss': 63.95298669222765, 'status': 'ok', 'eval_time': 1579650144.2983437, 'other_stuff': {'type': None, 'value': [0, 1, 2]}}, {'loss': 47.75732625829321, 'status': 'ok', 'eval_time': 1579650144.301668, 'other_stuff': {'type': None, 'value': [0, 1, 2]}}]\n",
            "[31.913624797075364, 92.10309206604936, 10.363008097800142, 12.779034898303886, 82.89239001827016, 27.64578559164038, 49.393683235230014, 13.300227500874161, 3.5342159478521484, 21.652563008157404, 14.64550922494564, 40.2858329927461, 0.512961581742383, 13.458089112171718, 6.791469296135997, 80.75428810679882, 55.87580468907228, 22.943837371979445, 20.407276983185373, 0.14978930105489138, 0.5252852124279014, 1.3515736898018806, 0.3929510432033684, 63.99041951777086, 3.7622947057324367, 31.195745040389074, 0.6353777581848628, 4.49111549164959, 3.3685987257419563, 47.819542145901124, 11.20215008373673, 0.05228692751861772, 27.95592351202813, 0.1784411436772356, 92.57172624046756, 6.325844020807919, 49.644533695796355, 2.2623872453929588, 98.86861584680258, 1.6989653968954228, 65.12094011209129, 8.994388179134491, 16.8402802574741, 9.588265175973172, 0.007446714779325026, 34.13444611271376, 38.221798997360175, 18.316074855217494, 0.15589413028090518, 68.22289756775955, 4.837004595734237, 23.58967183376876, 10.847204479453193, 1.8927517750345093, 19.265807385926546, 54.60573654414486, 1.7601714309488525, 7.008955417479467, 0.007903306673205107, 17.550629557080892, 36.58821501321751, 36.175226797964804, 73.07617628827485, 1.1607671295463642, 14.580163879001686, 0.009112819158035228, 4.893570929928312, 0.03385149707256646, 1.0897210704391862, 5.436921078430917, 26.252335025702408, 3.657999840742959, 9.162638463348582, 0.006777942669417696, 0.35089647307051214, 29.52098528911648, 10.486069841173698, 7.031943962260328, 3.105293585803611, 0.6416483329312486, 14.46293088877032, 3.0009647286194108, 6.626494921744381, 15.064057339218337, 1.2535298132559056, 2.1660152517685964, 0.019691592813368606, 23.744636304528512, 45.18188231956437, 22.308186912830497, 0.6852951444827995, 38.26286071650665, 4.332914468219307, 8.991385032422913, 11.331099649869463, 18.518987899461273, 7.071032419194486, 0.29335279164585437, 63.95298669222765, 47.75732625829321]\n",
            "['ok', 'ok', 'ok', 'ok', 'ok', 'ok', 'ok', 'ok', 'ok', 'ok', 'ok', 'ok', 'ok', 'ok', 'ok', 'ok', 'ok', 'ok', 'ok', 'ok', 'ok', 'ok', 'ok', 'ok', 'ok', 'ok', 'ok', 'ok', 'ok', 'ok', 'ok', 'ok', 'ok', 'ok', 'ok', 'ok', 'ok', 'ok', 'ok', 'ok', 'ok', 'ok', 'ok', 'ok', 'ok', 'ok', 'ok', 'ok', 'ok', 'ok', 'ok', 'ok', 'ok', 'ok', 'ok', 'ok', 'ok', 'ok', 'ok', 'ok', 'ok', 'ok', 'ok', 'ok', 'ok', 'ok', 'ok', 'ok', 'ok', 'ok', 'ok', 'ok', 'ok', 'ok', 'ok', 'ok', 'ok', 'ok', 'ok', 'ok', 'ok', 'ok', 'ok', 'ok', 'ok', 'ok', 'ok', 'ok', 'ok', 'ok', 'ok', 'ok', 'ok', 'ok', 'ok', 'ok', 'ok', 'ok', 'ok', 'ok']\n"
          ],
          "name": "stdout"
        }
      ]
    },
    {
      "cell_type": "code",
      "metadata": {
        "id": "tHfRwwZOeYv2",
        "colab_type": "code",
        "colab": {}
      },
      "source": [
        ""
      ],
      "execution_count": 0,
      "outputs": []
    },
    {
      "cell_type": "markdown",
      "metadata": {
        "id": "Tk7iAImwgL_D",
        "colab_type": "text"
      },
      "source": [
        "Source:https://blog.goodaudience.com/on-using-hyperopt-advanced-machine-learning-a2dde2ccece7"
      ]
    },
    {
      "cell_type": "code",
      "metadata": {
        "id": "ECzIw6VJgORR",
        "colab_type": "code",
        "colab": {}
      },
      "source": [
        "from hyperopt import hp, tpe, fmin \n",
        "# we import tpe algorithm \n",
        "# fmin function which helps us minimize the equation\n",
        "# hp which creates the search space"
      ],
      "execution_count": 0,
      "outputs": []
    },
    {
      "cell_type": "code",
      "metadata": {
        "id": "V7ERaoM_gQE4",
        "colab_type": "code",
        "colab": {}
      },
      "source": [
        "# creating the objective function\n",
        "def function(args):\n",
        "    x,y = args\n",
        "    f = x**2 - y**2\n",
        "    return f           # returns a numerical value"
      ],
      "execution_count": 0,
      "outputs": []
    },
    {
      "cell_type": "code",
      "metadata": {
        "id": "RqNKxc4ngSEn",
        "colab_type": "code",
        "colab": {}
      },
      "source": [
        "# defining the search space, we'll explore this more later\n",
        "space = [hp.uniform('x',-1,1),hp.uniform('y',-2,3)]"
      ],
      "execution_count": 0,
      "outputs": []
    },
    {
      "cell_type": "code",
      "metadata": {
        "id": "v3727YOngThq",
        "colab_type": "code",
        "colab": {
          "base_uri": "https://localhost:8080/",
          "height": 34
        },
        "outputId": "48a5a5bd-8dde-4826-ad5d-f673ee5c57f4"
      },
      "source": [
        "# calling the hyperopt function\n",
        "best = fmin(function,space,algo=tpe.suggest,max_evals=10)\n"
      ],
      "execution_count": 15,
      "outputs": [
        {
          "output_type": "stream",
          "text": [
            "100%|██████████| 10/10 [00:00<00:00, 504.23it/s, best loss: -7.722717542883269]\n"
          ],
          "name": "stdout"
        }
      ]
    },
    {
      "cell_type": "code",
      "metadata": {
        "id": "vChFK5X2gVh3",
        "colab_type": "code",
        "colab": {}
      },
      "source": [
        "# fmin function’s first argument is the objective function\n",
        "# second argument is the hyperopt space\n",
        "# third the algorithm that is to be used for optimization\n",
        "# maximum number of evaluations\n",
        "# fmin returns a dictionary giving best hyper-parameter\n"
      ],
      "execution_count": 0,
      "outputs": []
    },
    {
      "cell_type": "code",
      "metadata": {
        "id": "ppzsCbXNgW4n",
        "colab_type": "code",
        "colab": {
          "base_uri": "https://localhost:8080/",
          "height": 34
        },
        "outputId": "534b6c57-c52d-41fc-a9c7-84c68a6cf589"
      },
      "source": [
        "print(best)"
      ],
      "execution_count": 16,
      "outputs": [
        {
          "output_type": "stream",
          "text": [
            "{'x': 0.34426030153504583, 'y': 2.8002201160080737}\n"
          ],
          "name": "stdout"
        }
      ]
    },
    {
      "cell_type": "code",
      "metadata": {
        "id": "CM35vxKpgX_i",
        "colab_type": "code",
        "colab": {}
      },
      "source": [
        ""
      ],
      "execution_count": 0,
      "outputs": []
    }
  ]
}