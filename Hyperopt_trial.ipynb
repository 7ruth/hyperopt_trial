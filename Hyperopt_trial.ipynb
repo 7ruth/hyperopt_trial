{
  "nbformat": 4,
  "nbformat_minor": 0,
  "metadata": {
    "colab": {
      "name": "Hyperopt_trial.ipynb",
      "provenance": [],
      "authorship_tag": "ABX9TyMreZvUKZDbfgvWKqMBIjJ4",
      "include_colab_link": true
    },
    "kernelspec": {
      "name": "python3",
      "display_name": "Python 3"
    }
  },
  "cells": [
    {
      "cell_type": "markdown",
      "metadata": {
        "id": "view-in-github",
        "colab_type": "text"
      },
      "source": [
        "<a href=\"https://colab.research.google.com/github/7ruth/hyperopt_trial/blob/master/Hyperopt_trial.ipynb\" target=\"_parent\"><img src=\"https://colab.research.google.com/assets/colab-badge.svg\" alt=\"Open In Colab\"/></a>"
      ]
    },
    {
      "cell_type": "code",
      "metadata": {
        "id": "x9pbjALJa-Rb",
        "colab_type": "code",
        "colab": {
          "base_uri": "https://localhost:8080/",
          "height": 170
        },
        "outputId": "04f8118a-d0ea-4567-bfb4-3bb838a492c2"
      },
      "source": [
        "!pip install hyperopt"
      ],
      "execution_count": 1,
      "outputs": [
        {
          "output_type": "stream",
          "text": [
            "Requirement already satisfied: hyperopt in /usr/local/lib/python3.6/dist-packages (0.1.2)\n",
            "Requirement already satisfied: scipy in /usr/local/lib/python3.6/dist-packages (from hyperopt) (1.4.1)\n",
            "Requirement already satisfied: numpy in /usr/local/lib/python3.6/dist-packages (from hyperopt) (1.17.5)\n",
            "Requirement already satisfied: pymongo in /usr/local/lib/python3.6/dist-packages (from hyperopt) (3.10.0)\n",
            "Requirement already satisfied: tqdm in /usr/local/lib/python3.6/dist-packages (from hyperopt) (4.28.1)\n",
            "Requirement already satisfied: six in /usr/local/lib/python3.6/dist-packages (from hyperopt) (1.12.0)\n",
            "Requirement already satisfied: networkx in /usr/local/lib/python3.6/dist-packages (from hyperopt) (2.4)\n",
            "Requirement already satisfied: future in /usr/local/lib/python3.6/dist-packages (from hyperopt) (0.16.0)\n",
            "Requirement already satisfied: decorator>=4.3.0 in /usr/local/lib/python3.6/dist-packages (from networkx->hyperopt) (4.4.1)\n"
          ],
          "name": "stdout"
        }
      ]
    },
    {
      "cell_type": "code",
      "metadata": {
        "id": "8UTGq6_NbGwt",
        "colab_type": "code",
        "colab": {
          "base_uri": "https://localhost:8080/",
          "height": 68
        },
        "outputId": "683e50b3-1e20-46db-e6ea-5c44bb4d2a2b"
      },
      "source": [
        "# define an objective function\n",
        "def objective(args):\n",
        "    case, val = args\n",
        "    if case == 'case 1':\n",
        "        return val\n",
        "    else:\n",
        "        return val ** 2\n",
        "\n",
        "# define a search space\n",
        "from hyperopt import hp\n",
        "space = hp.choice('a',\n",
        "    [\n",
        "        ('case 1', 1 + hp.lognormal('c1', 0, 1)),\n",
        "        ('case 2', hp.uniform('c2', -10, 10))\n",
        "    ])\n",
        "\n",
        "# minimize the objective over the space\n",
        "from hyperopt import fmin, tpe, space_eval\n",
        "best = fmin(objective, space, algo=tpe.suggest, max_evals=100)\n",
        "\n",
        "print(best)\n",
        "# -> {'a': 1, 'c2': 0.01420615366247227}\n",
        "print(space_eval(space, best))\n",
        "# -> ('case 2', 0.01420615366247227}"
      ],
      "execution_count": 3,
      "outputs": [
        {
          "output_type": "stream",
          "text": [
            "100%|██████████| 100/100 [00:00<00:00, 183.60it/s, best loss: 0.00014212594140006231]\n",
            "{'a': 1, 'c2': 0.01192165850039592}\n",
            "('case 2', 0.01192165850039592)\n"
          ],
          "name": "stdout"
        }
      ]
    },
    {
      "cell_type": "code",
      "metadata": {
        "id": "EdEoS7cfbMTD",
        "colab_type": "code",
        "colab": {}
      },
      "source": [
        ""
      ],
      "execution_count": 0,
      "outputs": []
    }
  ]
}